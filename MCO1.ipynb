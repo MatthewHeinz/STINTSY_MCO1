{
 "cells": [
  {
   "cell_type": "markdown",
   "metadata": {},
   "source": [
    "# **MCO1 - Labor Force Survey 2016**\n",
    "\n",
    "#### Group: **K-Means Business**\n",
    "\n",
    "**Dy**, Harmony\n",
    "\n",
    "**Hernandez**, Christa\n",
    "\n",
    "**Sanchez**, Matthew\n",
    "\n",
    "**Uy**, Justine"
   ]
  },
  {
   "cell_type": "markdown",
   "metadata": {},
   "source": [
    "## Section 1. Introduction to the problem/task and dataset"
   ]
  },
  {
   "cell_type": "markdown",
   "metadata": {},
   "source": [
    "The dataset the group have chosen is Labor Force Survey 2016. This dataset mainly revolves around the employment and labor force participation of household members in the Philippines, while also capturing key demographic and socio-economic characteristics of the population. The target task is a **classification task** that aims to predict whether or not the respondent has done any work for at least one hour during the past week."
   ]
  },
  {
   "cell_type": "markdown",
   "metadata": {},
   "source": [
    "## Section 2. Description of the dataset"
   ]
  },
  {
   "cell_type": "markdown",
   "metadata": {},
   "source": [
    "<b>Description of the Dataset</b>\n",
    "\n",
    "The Labor Force Survey (LFS), April 2016 data set describes the demographic and socio-economic characteristics of the population mainly through the estimation of levels of employment, unemployment, and underemployment in the 17 administrative regions of the Philippines. It aims to provide a quantitative framework for the preparation of plans and formulation of policies affecting the labor market."
   ]
  },
  {
   "cell_type": "markdown",
   "metadata": {},
   "source": [
    "<b> Data Collection </b>\n",
    "\n",
    "The data collection was conducted face-to-face within a total national sample of 42,768 sample households (rounds with Batanes sample) or 42,576 sample households (rounds without Batanes sample) per survey round (quarterly in a year). This specific data set was collected from April 8, 2016 until April 30, 2016. To ensure the data set had proportional representation among the samples, the PSA designed a master sample which ensures a randomly assigned and selected set of geographic areas with non-overlapping and discernable boundaries known as PSUs. \n",
    "\n",
    "As the data collection method utilized a randomized sampling approach, the data collected is well representative of the national and regional statistics. With their systematic survey execution, a high-response rate of 95.7% was achieved which minimizes nonresponse bias.\n",
    "\n",
    "However, due to the survey only including participants from private households and excluding people from the institutional population, the survey might potentially be underestimating labor force statistics and creating less accurate results."
   ]
  },
  {
   "cell_type": "code",
   "execution_count": 3,
   "metadata": {},
   "outputs": [
    {
     "data": {
      "text/html": [
       "<div>\n",
       "<style scoped>\n",
       "    .dataframe tbody tr th:only-of-type {\n",
       "        vertical-align: middle;\n",
       "    }\n",
       "\n",
       "    .dataframe tbody tr th {\n",
       "        vertical-align: top;\n",
       "    }\n",
       "\n",
       "    .dataframe thead th {\n",
       "        text-align: right;\n",
       "    }\n",
       "</style>\n",
       "<table border=\"1\" class=\"dataframe\">\n",
       "  <thead>\n",
       "    <tr style=\"text-align: right;\">\n",
       "      <th></th>\n",
       "      <th>PUFREG</th>\n",
       "      <th>PUFPRV</th>\n",
       "      <th>PUFPRRCD</th>\n",
       "      <th>PUFHHNUM</th>\n",
       "      <th>PUFURB2K10</th>\n",
       "      <th>PUFPWGTFIN</th>\n",
       "      <th>PUFSVYMO</th>\n",
       "      <th>PUFSVYYR</th>\n",
       "      <th>PUFPSU</th>\n",
       "      <th>PUFRPL</th>\n",
       "      <th>...</th>\n",
       "      <th>PUFC33_WEEKS</th>\n",
       "      <th>PUFC34_WYNOT</th>\n",
       "      <th>PUFC35_LTLOOKW</th>\n",
       "      <th>PUFC36_AVAIL</th>\n",
       "      <th>PUFC37_WILLING</th>\n",
       "      <th>PUFC38_PREVJOB</th>\n",
       "      <th>PUFC40_POCC</th>\n",
       "      <th>PUFC41_WQTR</th>\n",
       "      <th>PUFC43_QKB</th>\n",
       "      <th>PUFNEWEMPSTAT</th>\n",
       "    </tr>\n",
       "  </thead>\n",
       "  <tbody>\n",
       "    <tr>\n",
       "      <th>0</th>\n",
       "      <td>1</td>\n",
       "      <td>28</td>\n",
       "      <td>2800</td>\n",
       "      <td>1</td>\n",
       "      <td>2</td>\n",
       "      <td>405.2219</td>\n",
       "      <td>4</td>\n",
       "      <td>2016</td>\n",
       "      <td>217</td>\n",
       "      <td>1</td>\n",
       "      <td>...</td>\n",
       "      <td></td>\n",
       "      <td></td>\n",
       "      <td></td>\n",
       "      <td></td>\n",
       "      <td></td>\n",
       "      <td></td>\n",
       "      <td></td>\n",
       "      <td>1</td>\n",
       "      <td>01</td>\n",
       "      <td>1</td>\n",
       "    </tr>\n",
       "    <tr>\n",
       "      <th>1</th>\n",
       "      <td>1</td>\n",
       "      <td>28</td>\n",
       "      <td>2800</td>\n",
       "      <td>1</td>\n",
       "      <td>2</td>\n",
       "      <td>388.8280</td>\n",
       "      <td>4</td>\n",
       "      <td>2016</td>\n",
       "      <td>217</td>\n",
       "      <td>1</td>\n",
       "      <td>...</td>\n",
       "      <td></td>\n",
       "      <td></td>\n",
       "      <td></td>\n",
       "      <td></td>\n",
       "      <td></td>\n",
       "      <td></td>\n",
       "      <td></td>\n",
       "      <td>1</td>\n",
       "      <td>01</td>\n",
       "      <td>1</td>\n",
       "    </tr>\n",
       "    <tr>\n",
       "      <th>2</th>\n",
       "      <td>1</td>\n",
       "      <td>28</td>\n",
       "      <td>2800</td>\n",
       "      <td>1</td>\n",
       "      <td>2</td>\n",
       "      <td>406.1194</td>\n",
       "      <td>4</td>\n",
       "      <td>2016</td>\n",
       "      <td>217</td>\n",
       "      <td>1</td>\n",
       "      <td>...</td>\n",
       "      <td></td>\n",
       "      <td></td>\n",
       "      <td></td>\n",
       "      <td></td>\n",
       "      <td></td>\n",
       "      <td></td>\n",
       "      <td></td>\n",
       "      <td>1</td>\n",
       "      <td>01</td>\n",
       "      <td>1</td>\n",
       "    </tr>\n",
       "    <tr>\n",
       "      <th>3</th>\n",
       "      <td>1</td>\n",
       "      <td>28</td>\n",
       "      <td>2800</td>\n",
       "      <td>2</td>\n",
       "      <td>2</td>\n",
       "      <td>405.2219</td>\n",
       "      <td>4</td>\n",
       "      <td>2016</td>\n",
       "      <td>217</td>\n",
       "      <td>1</td>\n",
       "      <td>...</td>\n",
       "      <td></td>\n",
       "      <td></td>\n",
       "      <td></td>\n",
       "      <td></td>\n",
       "      <td></td>\n",
       "      <td></td>\n",
       "      <td></td>\n",
       "      <td>1</td>\n",
       "      <td>01</td>\n",
       "      <td>1</td>\n",
       "    </tr>\n",
       "    <tr>\n",
       "      <th>4</th>\n",
       "      <td>1</td>\n",
       "      <td>28</td>\n",
       "      <td>2800</td>\n",
       "      <td>2</td>\n",
       "      <td>2</td>\n",
       "      <td>384.3556</td>\n",
       "      <td>4</td>\n",
       "      <td>2016</td>\n",
       "      <td>217</td>\n",
       "      <td>1</td>\n",
       "      <td>...</td>\n",
       "      <td></td>\n",
       "      <td></td>\n",
       "      <td></td>\n",
       "      <td></td>\n",
       "      <td></td>\n",
       "      <td></td>\n",
       "      <td></td>\n",
       "      <td>1</td>\n",
       "      <td>96</td>\n",
       "      <td>1</td>\n",
       "    </tr>\n",
       "  </tbody>\n",
       "</table>\n",
       "<p>5 rows × 50 columns</p>\n",
       "</div>"
      ],
      "text/plain": [
       "   PUFREG  PUFPRV  PUFPRRCD  PUFHHNUM  PUFURB2K10  PUFPWGTFIN  PUFSVYMO  \\\n",
       "0       1      28      2800         1           2    405.2219         4   \n",
       "1       1      28      2800         1           2    388.8280         4   \n",
       "2       1      28      2800         1           2    406.1194         4   \n",
       "3       1      28      2800         2           2    405.2219         4   \n",
       "4       1      28      2800         2           2    384.3556         4   \n",
       "\n",
       "   PUFSVYYR  PUFPSU  PUFRPL  ...  PUFC33_WEEKS  PUFC34_WYNOT  PUFC35_LTLOOKW  \\\n",
       "0      2016     217       1  ...                                               \n",
       "1      2016     217       1  ...                                               \n",
       "2      2016     217       1  ...                                               \n",
       "3      2016     217       1  ...                                               \n",
       "4      2016     217       1  ...                                               \n",
       "\n",
       "   PUFC36_AVAIL  PUFC37_WILLING PUFC38_PREVJOB PUFC40_POCC PUFC41_WQTR  \\\n",
       "0                                                                    1   \n",
       "1                                                                    1   \n",
       "2                                                                    1   \n",
       "3                                                                    1   \n",
       "4                                                                    1   \n",
       "\n",
       "  PUFC43_QKB PUFNEWEMPSTAT  \n",
       "0         01             1  \n",
       "1         01             1  \n",
       "2         01             1  \n",
       "3         01             1  \n",
       "4         96             1  \n",
       "\n",
       "[5 rows x 50 columns]"
      ]
     },
     "metadata": {},
     "output_type": "display_data"
    },
    {
     "name": "stdout",
     "output_type": "stream",
     "text": [
      "<class 'pandas.core.frame.DataFrame'>\n",
      "RangeIndex: 180862 entries, 0 to 180861\n",
      "Data columns (total 50 columns):\n",
      " #   Column           Non-Null Count   Dtype  \n",
      "---  ------           --------------   -----  \n",
      " 0   PUFREG           180862 non-null  int64  \n",
      " 1   PUFPRV           180862 non-null  int64  \n",
      " 2   PUFPRRCD         180862 non-null  int64  \n",
      " 3   PUFHHNUM         180862 non-null  int64  \n",
      " 4   PUFURB2K10       180862 non-null  int64  \n",
      " 5   PUFPWGTFIN       180862 non-null  float64\n",
      " 6   PUFSVYMO         180862 non-null  int64  \n",
      " 7   PUFSVYYR         180862 non-null  int64  \n",
      " 8   PUFPSU           180862 non-null  int64  \n",
      " 9   PUFRPL           180862 non-null  int64  \n",
      " 10  PUFHHSIZE        180862 non-null  int64  \n",
      " 11  PUFC01_LNO       180862 non-null  int64  \n",
      " 12  PUFC03_REL       180862 non-null  int64  \n",
      " 13  PUFC04_SEX       180862 non-null  int64  \n",
      " 14  PUFC05_AGE       180862 non-null  int64  \n",
      " 15  PUFC06_MSTAT     180862 non-null  object \n",
      " 16  PUFC07_GRADE     180862 non-null  object \n",
      " 17  PUFC08_CURSCH    180862 non-null  object \n",
      " 18  PUFC09_GRADTECH  180862 non-null  object \n",
      " 19  PUFC10_CONWR     180862 non-null  object \n",
      " 20  PUFC11_WORK      180862 non-null  object \n",
      " 21  PUFC12_JOB       180862 non-null  object \n",
      " 22  PUFC14_PROCC     180862 non-null  object \n",
      " 23  PUFC16_PKB       180862 non-null  object \n",
      " 24  PUFC17_NATEM     180862 non-null  object \n",
      " 25  PUFC18_PNWHRS    180862 non-null  object \n",
      " 26  PUFC19_PHOURS    180862 non-null  object \n",
      " 27  PUFC20_PWMORE    180862 non-null  object \n",
      " 28  PUFC21_PLADDW    180862 non-null  object \n",
      " 29  PUFC22_PFWRK     180862 non-null  object \n",
      " 30  PUFC23_PCLASS    180862 non-null  object \n",
      " 31  PUFC24_PBASIS    180862 non-null  object \n",
      " 32  PUFC25_PBASIC    180862 non-null  object \n",
      " 33  PUFC26_OJOB      180862 non-null  object \n",
      " 34  PUFC27_NJOBS     180862 non-null  object \n",
      " 35  PUFC28_THOURS    180862 non-null  object \n",
      " 36  PUFC29_WWM48H    180862 non-null  object \n",
      " 37  PUFC30_LOOKW     180862 non-null  object \n",
      " 38  PUFC31_FLWRK     180862 non-null  object \n",
      " 39  PUFC32_JOBSM     180862 non-null  object \n",
      " 40  PUFC33_WEEKS     180862 non-null  object \n",
      " 41  PUFC34_WYNOT     180862 non-null  object \n",
      " 42  PUFC35_LTLOOKW   180862 non-null  object \n",
      " 43  PUFC36_AVAIL     180862 non-null  object \n",
      " 44  PUFC37_WILLING   180862 non-null  object \n",
      " 45  PUFC38_PREVJOB   180862 non-null  object \n",
      " 46  PUFC40_POCC      180862 non-null  object \n",
      " 47  PUFC41_WQTR      180862 non-null  object \n",
      " 48  PUFC43_QKB       180862 non-null  object \n",
      " 49  PUFNEWEMPSTAT    180862 non-null  object \n",
      "dtypes: float64(1), int64(14), object(35)\n",
      "memory usage: 69.0+ MB\n"
     ]
    },
    {
     "data": {
      "text/plain": [
       "None"
      ]
     },
     "metadata": {},
     "output_type": "display_data"
    }
   ],
   "source": [
    "import pandas as pd\n",
    "import numpy as np\n",
    "\n",
    "df = pd.read_csv(\"PHL-PSA-LFS-2016-Q2-PUF/LFS PUF April 2016.CSV\")\n",
    "\n",
    "display(df.head())\n",
    "display(df.info())"
   ]
  },
  {
   "cell_type": "markdown",
   "metadata": {},
   "source": [
    "<b>Row and Column Representation </b>\n",
    "\n",
    "Each row represents an individual respondent which covers all household members of the sample households that meets their criteria to be considered. Each column represents a feature which describes the demographic and socio-economic chaacteristics of a respondent.\n",
    "\n",
    "<b>Instances</b>\n",
    "\n",
    "The data set contains a number of 42,768 instances (corresponding to households including the Batanes sample) or 42,576 instances (corresponding to households excluding the Batanes sample).\n",
    "\n",
    "<b>Features</b>\n",
    "\n",
    "There are 50 features in the dataset.\n",
    "\n",
    "<b>Important Files</b>\n",
    "\n",
    "LFS PUF April 2016.CSV: Data set file containing instances of the  responses from the survey.\n",
    "lfs_april_2016_metadata(dictionary).xlsx: A PDF file containing a study description. From this, Coverage, Sampling, Data Collection, and Data Processing were mainly used."
   ]
  },
  {
   "cell_type": "markdown",
   "metadata": {},
   "source": [
    "<b>Feature Descriptions</b>\n",
    "\n",
    "<b>PUFREG</b>: An integer value representing the administartive region where the respondent resides.\n",
    "\n",
    "<b>PUFPRV</b>: An integer value representing the numerical code of the respondent's province, also called Province Code. \n",
    "\n",
    "<b>PUFPRRCD</b>: An integer value representing a recoded verson of the province code, also called Province Recode.\n",
    "\n",
    "<b>PUFHHNUM</b>: An integer representing a unique identifier for each household.\n",
    "\n",
    "<b>PUFURB2K10</b>: A binary value indicating whether a household is in an urban or rural area based on the FIES 2010 Survey. (0 = Rural and 1 = Urban)\n",
    "\n",
    "<b>PUFPWGTFIN</b>: A float value corresponding to the final weight factor of each respondent which is used to scale or project survey results to the national level. \n",
    "\n",
    "<b>PUFSVYMO</b>: An integer value corresponding to the month the survey was conducted. It is a categorical value which means that 1 corresponds to January, 2 to February and so on.\n",
    "\n",
    "<b>PUFSVYYR</b>: An integer value corresponding to the year the survey was conducted. \n",
    "\n",
    "<b>PUFPSU</b>: An integer value corresponding to a respondent's Primary Sampling Unit (PSU) identifier.\n",
    "\n",
    "<b>PUFRPL</b>: An integer value corresponding to a replicate of a responder's Primary Sampling Unit (PSU) identifier.\n",
    "\n",
    "<b>PUFHHSIZE</b>: An integer value corresponding to the total number of members in a household, also called Household Size.\n",
    "\n",
    "<b>PUFC01_LNO</b>: An integer value corresponding to a respondent's unique identifier within a household.\n",
    "\n",
    "<b>PUFC03_REL</b>: An integer value representing the relationship of the respondent to the household head. It is a categorical value which means that 1 corresponds to Head, 2 is Spouse, 3 is Son/Daughter and so on.\n",
    "\n",
    "<b>PUFC04_SEX</b>: A binary value corresponding to the gender of the respondent. (0 = Female and 1 = Male)\n",
    "\n",
    "<b>PUFC05_AGE</b>: An integer value corresponding to the respondent's age at the last birthday.\n",
    "\n",
    "<b>PUFC06_MSTAT</b>: An integer value corresponding to the respondent's marital status. It is a categorical value which means that 1 corresponds to Single, 2 is Marries, 3 is Widowed and so on.\n",
    "\n",
    "<b>PUFC07_GRADE</b>: An integer value corresponding to the highest level of education obtained. It is a categorical value which means that 000 corresponds to No grade completed, 010 is Preschool, 210 is Grade 1 and so on.\n",
    "\n",
    "<b>PUFC08_CURSCH</b>: A binary value corresponding to whether the respondent is currently attending school. (0 = No and 1 = Yes)\n",
    "\n",
    "<b>PUFC09_GRADTECH</b>: A binary value corresponding to whether the respondent is a graduate of a technical/vocational course. (0 = No and 1 = Yes)\n",
    "\n",
    "<b>PUFC10_CONWR</b>: An integer value corresponding to the category of OFW.  It is a categorical value which means that 1 corresponds to OCW, 2 is Workers other than OCW, 3 is Employees in Phil. Embassy, Consulates & other missions and so on.\n",
    "\n",
    "<b>PUFC11_WORK</b>: A binary value corresponding to whether the respondent do any work for at least one house during the past week. (0 = No and 1 = Yes)\n",
    "\n",
    "<b>PUFC12_JOB</b>: A binary value corresponding to whether the respondent have a job or business during the past week despite not working last week. (0 = No and 1 = Yes)\n",
    "\n",
    "<b>PUFC14_PROCC</b>: A integer value representing the respondent's primary occupation during the past week. It is a categorical value. (No legend provided)\n",
    "\n",
    "<b>PUFC16_PKB</b>: An integer value representing the kind of business or industry the respondent's employed in. It is a categorical value. (No legend provided)\n",
    "\n",
    "<b>PUFC17_NATEM</b>: An integer value representing the respondent's nature of employment. It is a categorical value which means that 1 corresponds to permanent, 2 is short-term or seasonal, 3 is different employer on day to day or week to week basis.\n",
    "\n",
    "<b>PUFC18_PNWHRS</b>: An integer value corresponding to the respondent's normal working hours per day. \n",
    "\n",
    "<b>PUFC19_PHOURS</b>: An integer value corresponding to the respondent's total number of hours worked during the past week including non-paid hours. \n",
    "\n",
    "<b>PUFC20_PWMORE</b>: A binary value representing whether the respondent wants more hours of work during the past week. (0 = No and 1 = Yes)\n",
    "\n",
    "<b>PUFC21_PLADDW</b>: A binary value representing whether the respondent looked for additional work during the past week. (0 = No and 1 = Yes)\n",
    "\n",
    "<b>PUFC22_PFWRK</b>: A binary value representing whether it was the first time the respondents worked. (0 = No and 1 = Yes)\n",
    "\n",
    "<b>PUFC23_PCLASS</b>: An integer value corresponding to the relationship of the respondent to where he works. It is a categorical value which means that 0 corresponds to worked for private household, 1 is worked for private establishment, 2 is worked for government corporation and so on.\n",
    "\n",
    "<b>PUFC24_PBASIS</b>: An integer value corresponding to the method of payment for the respondent's primary occupation. It is a categorical value which means that 0 corresponds to in kind/imputed, 1 is per piece, 2 is per hour and so on.\n",
    "\n",
    "<b>PUFC25_PBASIC</b>: An integer value corresponding to the basic pay for normal time of the respondent prior to deductions. \n",
    "\n",
    "<b>PUFC26_OJOB</b>: A binary value representing whether or not the respondent has had another job or business during the past week. (0 = No and 1 = Yes)\n",
    "\n",
    "<b>PUFC27_NJOBS</b>: An integer value corresponding to the total number of jobs held by the respondent during the past week. \n",
    "\n",
    "<b>PUFC28_THOURS</b>: An integer value corresponding to the total hours the respondent worked across all jobs during the past week.\n",
    "\n",
    "<b>PUFC29_WWM48H</b>: An integer value representing the main reason for the respondent working more than 48 hours in the past week. It is a categorical value which means that 1 corresponds to wanted more earnings, 2 is requirements of the job, 3 is exceptional week and so on.  \n",
    "\n",
    "<b>PUFC30_LOOKW</b>: A binary value indicating whether the respondent look for work or try to establish a business in the past week. (0 = No and 1 = Yes)\n",
    "\n",
    "<b>PUFC31_FLWRK</b>: A binary value indicating whether the respondent was look for work or try to establish a business for the first time. (0 = No and 1 = Yes)\n",
    "\n",
    "<b>PUFC32_JOBSM</b>: An integer value representing the respondent's methods to find work. It is a categorical value which means that 1 corresponds to registered in public employment agency, 2 is registered in private employment agency, 3 is approached employer directly and so on.  \n",
    "\n",
    "<b>PUFC33_WEEKS</b>: An integer value corresponding to the number of weeks the respondent has been looking for work.\n",
    "\n",
    "<b>PUFC34_WYNOT</b>: An integer value representing the reason the respondent isn't looking for work. It is a categorical value which means that 1 corresponds to Tired/Believed no work available, 2 is Awaiting results of previous job application, 3 is Temporary illness/disability and so on.  \n",
    "\n",
    "<b>PUFC35_LTLOOKW</b>: An integer value value representing the last time the respondent has looked for work. It is a categorical value which means that 1 corresponds to Within the last month, 2 is One to six months ago, 3 is More than six months ago.  \n",
    "\n",
    "<b>PUFC36_AVAIL</b>: A binary value indicating whether the respondent would have been available for an opportunity last week or within two weeks. (0 = No and 1 = Yes)\n",
    "\n",
    "<b>PUFC37_WILLING</b>: A binary value indicating whether the respondent was willing to work in the past week or within 2 weeks. (0 = No and 1 = Yes)\n",
    "\n",
    "<b>PUFC38_PREVJOB</b>: A binary value indicating whether the respondent has worked before. (0 = No and 1 = Yes)\n",
    "\n",
    "<b>PUFC40_POCC</b>: An integer value value representing the respondent's last occupation. It is a categorical value. (No legend provided)\n",
    "\n",
    "<b>PUFC41_WQTR</b>: A binary value indicating whether the respondent has worked at all or business during the past quarter. (0 = No and 1 = Yes)\n",
    "\n",
    "<b>PUFC43_QKB</b>: An integer value value representing the respondent's kind of business for the past quarter. It is a categorical value. (No legend provided)\n",
    "\n",
    "<b>PUFNEWEMPSTAT</b>: An integer value value representing the respondent's employment status based on a new classificaion criteria used in the LFS. It is a categorical value. (No legend provided)\n"
   ]
  },
  {
   "cell_type": "markdown",
   "metadata": {},
   "source": [
    "## Section 3. List of requirements"
   ]
  },
  {
   "cell_type": "markdown",
   "metadata": {},
   "source": [
    "## Section 4. Data preprocessing and cleaning"
   ]
  },
  {
   "cell_type": "markdown",
   "metadata": {},
   "source": [
    "It is good practice to first make a copy of the dataframe in order to preserve the original data for any future comparison and analysis.\n",
    "\n",
    "First, check for any duplicate instances in the dataset in order to be drop any repetitions."
   ]
  },
  {
   "cell_type": "code",
   "execution_count": 4,
   "metadata": {},
   "outputs": [
    {
     "name": "stdout",
     "output_type": "stream",
     "text": [
      "Duplicated instances: 0\n"
     ]
    }
   ],
   "source": [
    "clean_df = df\n",
    "\n",
    "duplicate_count = clean_df.duplicated().sum()\n",
    "print(f\"Duplicated instances: {duplicate_count}\")"
   ]
  },
  {
   "cell_type": "markdown",
   "metadata": {},
   "source": [
    "The output shows no duplicated entries.\n",
    "\n",
    "Next, we want to find any null values in our dataset. Although upon using `.isnull()` function, it shows that there are no null values in the dataset which is inconsistent when opening the csv file. We came to a realization that some of the values were actually whitespaces due to the nature of the dataset which came from a survey questionnaire."
   ]
  },
  {
   "cell_type": "code",
   "execution_count": 5,
   "metadata": {},
   "outputs": [
    {
     "name": "stdout",
     "output_type": "stream",
     "text": [
      "PUFREG             0\n",
      "PUFPRV             0\n",
      "PUFPRRCD           0\n",
      "PUFHHNUM           0\n",
      "PUFURB2K10         0\n",
      "PUFPWGTFIN         0\n",
      "PUFSVYMO           0\n",
      "PUFSVYYR           0\n",
      "PUFPSU             0\n",
      "PUFRPL             0\n",
      "PUFHHSIZE          0\n",
      "PUFC01_LNO         0\n",
      "PUFC03_REL         0\n",
      "PUFC04_SEX         0\n",
      "PUFC05_AGE         0\n",
      "PUFC06_MSTAT       0\n",
      "PUFC07_GRADE       0\n",
      "PUFC08_CURSCH      0\n",
      "PUFC09_GRADTECH    0\n",
      "PUFC10_CONWR       0\n",
      "PUFC11_WORK        0\n",
      "PUFC12_JOB         0\n",
      "PUFC14_PROCC       0\n",
      "PUFC16_PKB         0\n",
      "PUFC17_NATEM       0\n",
      "PUFC18_PNWHRS      0\n",
      "PUFC19_PHOURS      0\n",
      "PUFC20_PWMORE      0\n",
      "PUFC21_PLADDW      0\n",
      "PUFC22_PFWRK       0\n",
      "PUFC23_PCLASS      0\n",
      "PUFC24_PBASIS      0\n",
      "PUFC25_PBASIC      0\n",
      "PUFC26_OJOB        0\n",
      "PUFC27_NJOBS       0\n",
      "PUFC28_THOURS      0\n",
      "PUFC29_WWM48H      0\n",
      "PUFC30_LOOKW       0\n",
      "PUFC31_FLWRK       0\n",
      "PUFC32_JOBSM       0\n",
      "PUFC33_WEEKS       0\n",
      "PUFC34_WYNOT       0\n",
      "PUFC35_LTLOOKW     0\n",
      "PUFC36_AVAIL       0\n",
      "PUFC37_WILLING     0\n",
      "PUFC38_PREVJOB     0\n",
      "PUFC40_POCC        0\n",
      "PUFC41_WQTR        0\n",
      "PUFC43_QKB         0\n",
      "PUFNEWEMPSTAT      0\n",
      "dtype: int64\n",
      "PUFREG                  0\n",
      "PUFPRV                  0\n",
      "PUFPRRCD                0\n",
      "PUFHHNUM                0\n",
      "PUFURB2K10              0\n",
      "PUFPWGTFIN              0\n",
      "PUFSVYMO                0\n",
      "PUFSVYYR                0\n",
      "PUFPSU                  0\n",
      "PUFRPL                  0\n",
      "PUFHHSIZE               0\n",
      "PUFC01_LNO              0\n",
      "PUFC03_REL              0\n",
      "PUFC04_SEX              0\n",
      "PUFC05_AGE              0\n",
      "PUFC06_MSTAT        18339\n",
      "PUFC07_GRADE            0\n",
      "PUFC08_CURSCH      107137\n",
      "PUFC09_GRADTECH     57782\n",
      "PUFC10_CONWR        57782\n",
      "PUFC11_WORK         21894\n",
      "PUFC12_JOB          93306\n",
      "PUFC14_PROCC            0\n",
      "PUFC16_PKB              0\n",
      "PUFC17_NATEM       109507\n",
      "PUFC18_PNWHRS           0\n",
      "PUFC19_PHOURS           0\n",
      "PUFC20_PWMORE      109507\n",
      "PUFC21_PLADDW      109507\n",
      "PUFC22_PFWRK       109507\n",
      "PUFC23_PCLASS      109507\n",
      "PUFC24_PBASIS      138947\n",
      "PUFC25_PBASIC           0\n",
      "PUFC26_OJOB        109507\n",
      "PUFC27_NJOBS       174924\n",
      "PUFC28_THOURS           0\n",
      "PUFC29_WWM48H      163629\n",
      "PUFC30_LOOKW       132692\n",
      "PUFC31_FLWRK       178569\n",
      "PUFC32_JOBSM       178569\n",
      "PUFC33_WEEKS            0\n",
      "PUFC34_WYNOT       134985\n",
      "PUFC35_LTLOOKW     179269\n",
      "PUFC36_AVAIL       174893\n",
      "PUFC37_WILLING     174893\n",
      "PUFC38_PREVJOB     132692\n",
      "PUFC40_POCC             0\n",
      "PUFC41_WQTR         81627\n",
      "PUFC43_QKB              0\n",
      "PUFNEWEMPSTAT       61337\n",
      "dtype: int64\n"
     ]
    }
   ],
   "source": [
    "print(clean_df.isnull().sum())\n",
    "print((clean_df == ' ').sum()) "
   ]
  },
  {
   "cell_type": "markdown",
   "metadata": {},
   "source": [
    "Before we perform further processing for any possible missing values, it's easier to work with them if they are of the same data type. To ensure empty-like data types (whitespaces, tab spaces, newlines, etc) are unified, we will convert them into null values."
   ]
  },
  {
   "cell_type": "code",
   "execution_count": 6,
   "metadata": {},
   "outputs": [
    {
     "name": "stdout",
     "output_type": "stream",
     "text": [
      "PUFREG                  0\n",
      "PUFPRV                  0\n",
      "PUFPRRCD                0\n",
      "PUFHHNUM                0\n",
      "PUFURB2K10              0\n",
      "PUFPWGTFIN              0\n",
      "PUFSVYMO                0\n",
      "PUFSVYYR                0\n",
      "PUFPSU                  0\n",
      "PUFRPL                  0\n",
      "PUFHHSIZE               0\n",
      "PUFC01_LNO              0\n",
      "PUFC03_REL              0\n",
      "PUFC04_SEX              0\n",
      "PUFC05_AGE              0\n",
      "PUFC06_MSTAT        18339\n",
      "PUFC07_GRADE        18339\n",
      "PUFC08_CURSCH      107137\n",
      "PUFC09_GRADTECH     57782\n",
      "PUFC10_CONWR        57782\n",
      "PUFC11_WORK         21894\n",
      "PUFC12_JOB          93306\n",
      "PUFC14_PROCC       108360\n",
      "PUFC16_PKB         108360\n",
      "PUFC17_NATEM       109507\n",
      "PUFC18_PNWHRS      109507\n",
      "PUFC19_PHOURS      109507\n",
      "PUFC20_PWMORE      109507\n",
      "PUFC21_PLADDW      109507\n",
      "PUFC22_PFWRK       109507\n",
      "PUFC23_PCLASS      109507\n",
      "PUFC24_PBASIS      138947\n",
      "PUFC25_PBASIC      144274\n",
      "PUFC26_OJOB        109507\n",
      "PUFC27_NJOBS       174924\n",
      "PUFC28_THOURS      109507\n",
      "PUFC29_WWM48H      163629\n",
      "PUFC30_LOOKW       132692\n",
      "PUFC31_FLWRK       178569\n",
      "PUFC32_JOBSM       178569\n",
      "PUFC33_WEEKS       178569\n",
      "PUFC34_WYNOT       134985\n",
      "PUFC35_LTLOOKW     179269\n",
      "PUFC36_AVAIL       174893\n",
      "PUFC37_WILLING     174893\n",
      "PUFC38_PREVJOB     132692\n",
      "PUFC40_POCC        152982\n",
      "PUFC41_WQTR         81627\n",
      "PUFC43_QKB         107825\n",
      "PUFNEWEMPSTAT       61337\n",
      "dtype: int64\n"
     ]
    }
   ],
   "source": [
    "clean_df.replace(r'^\\s*$', np.nan, regex=True, inplace=True)\n",
    "\n",
    "print(clean_df.isnull().sum())\n",
    "\n",
    "#clean_df.to_csv(r\"C:\\Users\\Matthew Sanchez\\Desktop\\3rdYr\\T2\\STINTSY\\cleaned_LFS_PUF_April_2016.csv\", index=False)"
   ]
  },
  {
   "cell_type": "markdown",
   "metadata": {},
   "source": [
    "Before doing further processes, it is best to determine the relevant features needed for the classification task.\n",
    "\n",
    "Since the classification task will determine if the household member has done any work for at least an hour over the past week, the relevant features we have selected to help with the prediction are:\n",
    "\n",
    "_Demographic Factors_\n",
    "- PUFC05_AGE\n",
    "- PUFC04_SEX\n",
    "- PUFC06_MSTAT\n",
    "\n",
    "_Education and Training_\n",
    "- PUFC07_GRADE\n",
    "- PUFC08_CURSCH\n",
    "- PUFC09_GRADTECH\n",
    "\n",
    "_Overseas Work & Employment History_\n",
    "- PUFC10_CONWR\n",
    "- PUFC38_PREVJOB\n",
    "- PUFC17_NATEM\n",
    "\n",
    "_Job-Seeking Efforts_\n",
    "- PUFC30_LOOKW\n",
    "- PUFC31_FLWRK\n",
    "- PUFC37_WILLING\n",
    "\n",
    "_Availability & Motivation_\n",
    "- PUFC36_AVAIL\n",
    "- PUFC20_PWMORE\n",
    "- PUFC21_PLADDW"
   ]
  },
  {
   "cell_type": "code",
   "execution_count": 7,
   "metadata": {},
   "outputs": [
    {
     "data": {
      "text/html": [
       "<div>\n",
       "<style scoped>\n",
       "    .dataframe tbody tr th:only-of-type {\n",
       "        vertical-align: middle;\n",
       "    }\n",
       "\n",
       "    .dataframe tbody tr th {\n",
       "        vertical-align: top;\n",
       "    }\n",
       "\n",
       "    .dataframe thead th {\n",
       "        text-align: right;\n",
       "    }\n",
       "</style>\n",
       "<table border=\"1\" class=\"dataframe\">\n",
       "  <thead>\n",
       "    <tr style=\"text-align: right;\">\n",
       "      <th></th>\n",
       "      <th>PUFC11_WORK</th>\n",
       "      <th>PUFC05_AGE</th>\n",
       "      <th>PUFC04_SEX</th>\n",
       "      <th>PUFC06_MSTAT</th>\n",
       "      <th>PUFC07_GRADE</th>\n",
       "      <th>PUFC08_CURSCH</th>\n",
       "      <th>PUFC09_GRADTECH</th>\n",
       "      <th>PUFC10_CONWR</th>\n",
       "      <th>PUFC38_PREVJOB</th>\n",
       "      <th>PUFC17_NATEM</th>\n",
       "      <th>PUFC30_LOOKW</th>\n",
       "      <th>PUFC31_FLWRK</th>\n",
       "      <th>PUFC37_WILLING</th>\n",
       "      <th>PUFC36_AVAIL</th>\n",
       "      <th>PUFC20_PWMORE</th>\n",
       "      <th>PUFC21_PLADDW</th>\n",
       "    </tr>\n",
       "  </thead>\n",
       "  <tbody>\n",
       "    <tr>\n",
       "      <th>0</th>\n",
       "      <td>1</td>\n",
       "      <td>49</td>\n",
       "      <td>1</td>\n",
       "      <td>2</td>\n",
       "      <td>350</td>\n",
       "      <td>NaN</td>\n",
       "      <td>2</td>\n",
       "      <td>5</td>\n",
       "      <td>NaN</td>\n",
       "      <td>1</td>\n",
       "      <td>NaN</td>\n",
       "      <td>NaN</td>\n",
       "      <td>NaN</td>\n",
       "      <td>NaN</td>\n",
       "      <td>1</td>\n",
       "      <td>1</td>\n",
       "    </tr>\n",
       "    <tr>\n",
       "      <th>1</th>\n",
       "      <td>1</td>\n",
       "      <td>61</td>\n",
       "      <td>2</td>\n",
       "      <td>2</td>\n",
       "      <td>350</td>\n",
       "      <td>NaN</td>\n",
       "      <td>2</td>\n",
       "      <td>5</td>\n",
       "      <td>NaN</td>\n",
       "      <td>2</td>\n",
       "      <td>NaN</td>\n",
       "      <td>NaN</td>\n",
       "      <td>NaN</td>\n",
       "      <td>NaN</td>\n",
       "      <td>2</td>\n",
       "      <td>2</td>\n",
       "    </tr>\n",
       "    <tr>\n",
       "      <th>2</th>\n",
       "      <td>1</td>\n",
       "      <td>19</td>\n",
       "      <td>1</td>\n",
       "      <td>1</td>\n",
       "      <td>350</td>\n",
       "      <td>2</td>\n",
       "      <td>2</td>\n",
       "      <td>5</td>\n",
       "      <td>NaN</td>\n",
       "      <td>2</td>\n",
       "      <td>NaN</td>\n",
       "      <td>NaN</td>\n",
       "      <td>NaN</td>\n",
       "      <td>NaN</td>\n",
       "      <td>1</td>\n",
       "      <td>1</td>\n",
       "    </tr>\n",
       "    <tr>\n",
       "      <th>3</th>\n",
       "      <td>1</td>\n",
       "      <td>48</td>\n",
       "      <td>1</td>\n",
       "      <td>2</td>\n",
       "      <td>320</td>\n",
       "      <td>NaN</td>\n",
       "      <td>2</td>\n",
       "      <td>5</td>\n",
       "      <td>NaN</td>\n",
       "      <td>1</td>\n",
       "      <td>NaN</td>\n",
       "      <td>NaN</td>\n",
       "      <td>NaN</td>\n",
       "      <td>NaN</td>\n",
       "      <td>1</td>\n",
       "      <td>1</td>\n",
       "    </tr>\n",
       "    <tr>\n",
       "      <th>4</th>\n",
       "      <td>1</td>\n",
       "      <td>41</td>\n",
       "      <td>2</td>\n",
       "      <td>2</td>\n",
       "      <td>350</td>\n",
       "      <td>NaN</td>\n",
       "      <td>2</td>\n",
       "      <td>5</td>\n",
       "      <td>NaN</td>\n",
       "      <td>1</td>\n",
       "      <td>NaN</td>\n",
       "      <td>NaN</td>\n",
       "      <td>NaN</td>\n",
       "      <td>NaN</td>\n",
       "      <td>2</td>\n",
       "      <td>2</td>\n",
       "    </tr>\n",
       "    <tr>\n",
       "      <th>...</th>\n",
       "      <td>...</td>\n",
       "      <td>...</td>\n",
       "      <td>...</td>\n",
       "      <td>...</td>\n",
       "      <td>...</td>\n",
       "      <td>...</td>\n",
       "      <td>...</td>\n",
       "      <td>...</td>\n",
       "      <td>...</td>\n",
       "      <td>...</td>\n",
       "      <td>...</td>\n",
       "      <td>...</td>\n",
       "      <td>...</td>\n",
       "      <td>...</td>\n",
       "      <td>...</td>\n",
       "      <td>...</td>\n",
       "    </tr>\n",
       "    <tr>\n",
       "      <th>180857</th>\n",
       "      <td>1</td>\n",
       "      <td>29</td>\n",
       "      <td>1</td>\n",
       "      <td>2</td>\n",
       "      <td>350</td>\n",
       "      <td>NaN</td>\n",
       "      <td>2</td>\n",
       "      <td>5</td>\n",
       "      <td>NaN</td>\n",
       "      <td>1</td>\n",
       "      <td>NaN</td>\n",
       "      <td>NaN</td>\n",
       "      <td>NaN</td>\n",
       "      <td>NaN</td>\n",
       "      <td>2</td>\n",
       "      <td>2</td>\n",
       "    </tr>\n",
       "    <tr>\n",
       "      <th>180858</th>\n",
       "      <td>2</td>\n",
       "      <td>29</td>\n",
       "      <td>2</td>\n",
       "      <td>2</td>\n",
       "      <td>830</td>\n",
       "      <td>NaN</td>\n",
       "      <td>2</td>\n",
       "      <td>5</td>\n",
       "      <td>2</td>\n",
       "      <td>NaN</td>\n",
       "      <td>2</td>\n",
       "      <td>NaN</td>\n",
       "      <td>NaN</td>\n",
       "      <td>NaN</td>\n",
       "      <td>NaN</td>\n",
       "      <td>NaN</td>\n",
       "    </tr>\n",
       "    <tr>\n",
       "      <th>180859</th>\n",
       "      <td>NaN</td>\n",
       "      <td>4</td>\n",
       "      <td>2</td>\n",
       "      <td>NaN</td>\n",
       "      <td>NaN</td>\n",
       "      <td>NaN</td>\n",
       "      <td>NaN</td>\n",
       "      <td>NaN</td>\n",
       "      <td>NaN</td>\n",
       "      <td>NaN</td>\n",
       "      <td>NaN</td>\n",
       "      <td>NaN</td>\n",
       "      <td>NaN</td>\n",
       "      <td>NaN</td>\n",
       "      <td>NaN</td>\n",
       "      <td>NaN</td>\n",
       "    </tr>\n",
       "    <tr>\n",
       "      <th>180860</th>\n",
       "      <td>NaN</td>\n",
       "      <td>2</td>\n",
       "      <td>2</td>\n",
       "      <td>NaN</td>\n",
       "      <td>NaN</td>\n",
       "      <td>NaN</td>\n",
       "      <td>NaN</td>\n",
       "      <td>NaN</td>\n",
       "      <td>NaN</td>\n",
       "      <td>NaN</td>\n",
       "      <td>NaN</td>\n",
       "      <td>NaN</td>\n",
       "      <td>NaN</td>\n",
       "      <td>NaN</td>\n",
       "      <td>NaN</td>\n",
       "      <td>NaN</td>\n",
       "    </tr>\n",
       "    <tr>\n",
       "      <th>180861</th>\n",
       "      <td>1</td>\n",
       "      <td>18</td>\n",
       "      <td>1</td>\n",
       "      <td>1</td>\n",
       "      <td>350</td>\n",
       "      <td>2</td>\n",
       "      <td>2</td>\n",
       "      <td>5</td>\n",
       "      <td>NaN</td>\n",
       "      <td>1</td>\n",
       "      <td>NaN</td>\n",
       "      <td>NaN</td>\n",
       "      <td>NaN</td>\n",
       "      <td>NaN</td>\n",
       "      <td>2</td>\n",
       "      <td>2</td>\n",
       "    </tr>\n",
       "  </tbody>\n",
       "</table>\n",
       "<p>180862 rows × 16 columns</p>\n",
       "</div>"
      ],
      "text/plain": [
       "       PUFC11_WORK  PUFC05_AGE  PUFC04_SEX PUFC06_MSTAT PUFC07_GRADE  \\\n",
       "0                1          49           1            2          350   \n",
       "1                1          61           2            2          350   \n",
       "2                1          19           1            1          350   \n",
       "3                1          48           1            2          320   \n",
       "4                1          41           2            2          350   \n",
       "...            ...         ...         ...          ...          ...   \n",
       "180857           1          29           1            2          350   \n",
       "180858           2          29           2            2          830   \n",
       "180859         NaN           4           2          NaN          NaN   \n",
       "180860         NaN           2           2          NaN          NaN   \n",
       "180861           1          18           1            1          350   \n",
       "\n",
       "       PUFC08_CURSCH PUFC09_GRADTECH PUFC10_CONWR PUFC38_PREVJOB PUFC17_NATEM  \\\n",
       "0                NaN               2            5            NaN            1   \n",
       "1                NaN               2            5            NaN            2   \n",
       "2                  2               2            5            NaN            2   \n",
       "3                NaN               2            5            NaN            1   \n",
       "4                NaN               2            5            NaN            1   \n",
       "...              ...             ...          ...            ...          ...   \n",
       "180857           NaN               2            5            NaN            1   \n",
       "180858           NaN               2            5              2          NaN   \n",
       "180859           NaN             NaN          NaN            NaN          NaN   \n",
       "180860           NaN             NaN          NaN            NaN          NaN   \n",
       "180861             2               2            5            NaN            1   \n",
       "\n",
       "       PUFC30_LOOKW PUFC31_FLWRK PUFC37_WILLING PUFC36_AVAIL PUFC20_PWMORE  \\\n",
       "0               NaN          NaN            NaN          NaN             1   \n",
       "1               NaN          NaN            NaN          NaN             2   \n",
       "2               NaN          NaN            NaN          NaN             1   \n",
       "3               NaN          NaN            NaN          NaN             1   \n",
       "4               NaN          NaN            NaN          NaN             2   \n",
       "...             ...          ...            ...          ...           ...   \n",
       "180857          NaN          NaN            NaN          NaN             2   \n",
       "180858            2          NaN            NaN          NaN           NaN   \n",
       "180859          NaN          NaN            NaN          NaN           NaN   \n",
       "180860          NaN          NaN            NaN          NaN           NaN   \n",
       "180861          NaN          NaN            NaN          NaN             2   \n",
       "\n",
       "       PUFC21_PLADDW  \n",
       "0                  1  \n",
       "1                  2  \n",
       "2                  1  \n",
       "3                  1  \n",
       "4                  2  \n",
       "...              ...  \n",
       "180857             2  \n",
       "180858           NaN  \n",
       "180859           NaN  \n",
       "180860           NaN  \n",
       "180861             2  \n",
       "\n",
       "[180862 rows x 16 columns]"
      ]
     },
     "metadata": {},
     "output_type": "display_data"
    },
    {
     "name": "stdout",
     "output_type": "stream",
     "text": [
      "PUFC11_WORK         21894\n",
      "PUFC05_AGE              0\n",
      "PUFC04_SEX              0\n",
      "PUFC06_MSTAT        18339\n",
      "PUFC07_GRADE        18339\n",
      "PUFC08_CURSCH      107137\n",
      "PUFC09_GRADTECH     57782\n",
      "PUFC10_CONWR        57782\n",
      "PUFC38_PREVJOB     132692\n",
      "PUFC17_NATEM       109507\n",
      "PUFC30_LOOKW       132692\n",
      "PUFC31_FLWRK       178569\n",
      "PUFC37_WILLING     174893\n",
      "PUFC36_AVAIL       174893\n",
      "PUFC20_PWMORE      109507\n",
      "PUFC21_PLADDW      109507\n",
      "dtype: int64\n"
     ]
    }
   ],
   "source": [
    "relevant_features = [\n",
    "    \"PUFC11_WORK\",                                          # label to predict\n",
    "    \"PUFC05_AGE\", \"PUFC04_SEX\", \"PUFC06_MSTAT\",             # Demographic Factors\n",
    "    \"PUFC07_GRADE\", \"PUFC08_CURSCH\", \"PUFC09_GRADTECH\",     # Education & Training\n",
    "    \"PUFC10_CONWR\", \"PUFC38_PREVJOB\", \"PUFC17_NATEM\",       # Overseas Work & Employment History\n",
    "    \"PUFC30_LOOKW\", \"PUFC31_FLWRK\", \"PUFC37_WILLING\",       # Job-Seeking Efforts\n",
    "    \"PUFC36_AVAIL\", \"PUFC20_PWMORE\", \"PUFC21_PLADDW\"        # Job Availability & Motivation\n",
    "]\n",
    "\n",
    "# Create a new DataFrame with only the selected features\n",
    "focused_df = clean_df[relevant_features].copy()\n",
    "\n",
    "display(focused_df)\n",
    "print(focused_df.isnull().sum())"
   ]
  },
  {
   "cell_type": "markdown",
   "metadata": {},
   "source": [
    "Empty entries for `PUFC06_MSTAT` (marital status) will be defaulted to a value of 6 since the questionnaire associated 6 with \"Unknown\"."
   ]
  },
  {
   "cell_type": "code",
   "execution_count": 8,
   "metadata": {},
   "outputs": [
    {
     "name": "stdout",
     "output_type": "stream",
     "text": [
      "PUFC11_WORK         21894\n",
      "PUFC05_AGE              0\n",
      "PUFC04_SEX              0\n",
      "PUFC06_MSTAT            0\n",
      "PUFC07_GRADE        18339\n",
      "PUFC08_CURSCH      107137\n",
      "PUFC09_GRADTECH     57782\n",
      "PUFC10_CONWR        57782\n",
      "PUFC38_PREVJOB     132692\n",
      "PUFC17_NATEM       109507\n",
      "PUFC30_LOOKW       132692\n",
      "PUFC31_FLWRK       178569\n",
      "PUFC37_WILLING     174893\n",
      "PUFC36_AVAIL       174893\n",
      "PUFC20_PWMORE      109507\n",
      "PUFC21_PLADDW      109507\n",
      "dtype: int64\n"
     ]
    },
    {
     "name": "stderr",
     "output_type": "stream",
     "text": [
      "C:\\Users\\Matthew Sanchez\\AppData\\Local\\Temp\\ipykernel_18584\\281336968.py:1: FutureWarning: A value is trying to be set on a copy of a DataFrame or Series through chained assignment using an inplace method.\n",
      "The behavior will change in pandas 3.0. This inplace method will never work because the intermediate object on which we are setting values always behaves as a copy.\n",
      "\n",
      "For example, when doing 'df[col].method(value, inplace=True)', try using 'df.method({col: value}, inplace=True)' or df[col] = df[col].method(value) instead, to perform the operation inplace on the original object.\n",
      "\n",
      "\n",
      "  focused_df['PUFC06_MSTAT'].fillna(6, inplace=True)\n"
     ]
    }
   ],
   "source": [
    "focused_df['PUFC06_MSTAT'].fillna(6, inplace=True)\n",
    "\n",
    "print(focused_df.isnull().sum())"
   ]
  },
  {
   "cell_type": "markdown",
   "metadata": {},
   "source": [
    "Empty entries for `PUFC07_GRADE` (highest grade completed) will be defaulted to a value of the mode to preserve the most common educational attainment."
   ]
  },
  {
   "cell_type": "code",
   "execution_count": 9,
   "metadata": {},
   "outputs": [
    {
     "name": "stdout",
     "output_type": "stream",
     "text": [
      "PUFC11_WORK         21894\n",
      "PUFC05_AGE              0\n",
      "PUFC04_SEX              0\n",
      "PUFC06_MSTAT            0\n",
      "PUFC07_GRADE            0\n",
      "PUFC08_CURSCH      107137\n",
      "PUFC09_GRADTECH     57782\n",
      "PUFC10_CONWR        57782\n",
      "PUFC38_PREVJOB     132692\n",
      "PUFC17_NATEM       109507\n",
      "PUFC30_LOOKW       132692\n",
      "PUFC31_FLWRK       178569\n",
      "PUFC37_WILLING     174893\n",
      "PUFC36_AVAIL       174893\n",
      "PUFC20_PWMORE      109507\n",
      "PUFC21_PLADDW      109507\n",
      "dtype: int64\n"
     ]
    },
    {
     "name": "stderr",
     "output_type": "stream",
     "text": [
      "C:\\Users\\Matthew Sanchez\\AppData\\Local\\Temp\\ipykernel_18584\\1946312262.py:2: FutureWarning: A value is trying to be set on a copy of a DataFrame or Series through chained assignment using an inplace method.\n",
      "The behavior will change in pandas 3.0. This inplace method will never work because the intermediate object on which we are setting values always behaves as a copy.\n",
      "\n",
      "For example, when doing 'df[col].method(value, inplace=True)', try using 'df.method({col: value}, inplace=True)' or df[col] = df[col].method(value) instead, to perform the operation inplace on the original object.\n",
      "\n",
      "\n",
      "  focused_df[\"PUFC07_GRADE\"].fillna(mode_value, inplace=True)\n"
     ]
    }
   ],
   "source": [
    "mode_value = focused_df[\"PUFC07_GRADE\"].mode()[0] \n",
    "focused_df[\"PUFC07_GRADE\"].fillna(mode_value, inplace=True)\n",
    "\n",
    "print(focused_df.isnull().sum())"
   ]
  },
  {
   "cell_type": "markdown",
   "metadata": {},
   "source": [
    "Empty entries for `PUFC08_CURSCH` (currently attending school) will be defaulted to a value of 2 since the questionnaire associated 2 with NO. We assume skip by omission which implies a NO."
   ]
  },
  {
   "cell_type": "code",
   "execution_count": 10,
   "metadata": {},
   "outputs": [
    {
     "name": "stdout",
     "output_type": "stream",
     "text": [
      "PUFC11_WORK         21894\n",
      "PUFC05_AGE              0\n",
      "PUFC04_SEX              0\n",
      "PUFC06_MSTAT            0\n",
      "PUFC07_GRADE            0\n",
      "PUFC08_CURSCH           0\n",
      "PUFC09_GRADTECH     57782\n",
      "PUFC10_CONWR        57782\n",
      "PUFC38_PREVJOB     132692\n",
      "PUFC17_NATEM       109507\n",
      "PUFC30_LOOKW       132692\n",
      "PUFC31_FLWRK       178569\n",
      "PUFC37_WILLING     174893\n",
      "PUFC36_AVAIL       174893\n",
      "PUFC20_PWMORE      109507\n",
      "PUFC21_PLADDW      109507\n",
      "dtype: int64"
     ]
    },
    {
     "name": "stderr",
     "output_type": "stream",
     "text": [
      "C:\\Users\\Matthew Sanchez\\AppData\\Local\\Temp\\ipykernel_18584\\791253507.py:1: FutureWarning: A value is trying to be set on a copy of a DataFrame or Series through chained assignment using an inplace method.\n",
      "The behavior will change in pandas 3.0. This inplace method will never work because the intermediate object on which we are setting values always behaves as a copy.\n",
      "\n",
      "For example, when doing 'df[col].method(value, inplace=True)', try using 'df.method({col: value}, inplace=True)' or df[col] = df[col].method(value) instead, to perform the operation inplace on the original object.\n",
      "\n",
      "\n",
      "  focused_df['PUFC08_CURSCH'].fillna(2, inplace=True)\n"
     ]
    },
    {
     "name": "stdout",
     "output_type": "stream",
     "text": [
      "\n"
     ]
    }
   ],
   "source": [
    "focused_df['PUFC08_CURSCH'].fillna(2, inplace=True)\n",
    "\n",
    "print(focused_df.isnull().sum())"
   ]
  },
  {
   "cell_type": "markdown",
   "metadata": {},
   "source": [
    "Empty entries for `PUFC09_GRADTECH` (graduate of technical/vocational course) will be defaulted to a value of 2 since the questionnaire associated 2 with NO. We assume skip by omission which implies a NO."
   ]
  },
  {
   "cell_type": "code",
   "execution_count": 11,
   "metadata": {},
   "outputs": [
    {
     "name": "stdout",
     "output_type": "stream",
     "text": [
      "PUFC11_WORK         21894\n",
      "PUFC05_AGE              0\n",
      "PUFC04_SEX              0\n",
      "PUFC06_MSTAT            0\n",
      "PUFC07_GRADE            0\n",
      "PUFC08_CURSCH           0\n",
      "PUFC09_GRADTECH         0\n",
      "PUFC10_CONWR        57782\n",
      "PUFC38_PREVJOB     132692\n",
      "PUFC17_NATEM       109507\n",
      "PUFC30_LOOKW       132692\n",
      "PUFC31_FLWRK       178569\n",
      "PUFC37_WILLING     174893\n",
      "PUFC36_AVAIL       174893\n",
      "PUFC20_PWMORE      109507\n",
      "PUFC21_PLADDW      109507\n",
      "dtype: int64\n"
     ]
    },
    {
     "name": "stderr",
     "output_type": "stream",
     "text": [
      "C:\\Users\\Matthew Sanchez\\AppData\\Local\\Temp\\ipykernel_18584\\811979134.py:1: FutureWarning: A value is trying to be set on a copy of a DataFrame or Series through chained assignment using an inplace method.\n",
      "The behavior will change in pandas 3.0. This inplace method will never work because the intermediate object on which we are setting values always behaves as a copy.\n",
      "\n",
      "For example, when doing 'df[col].method(value, inplace=True)', try using 'df.method({col: value}, inplace=True)' or df[col] = df[col].method(value) instead, to perform the operation inplace on the original object.\n",
      "\n",
      "\n",
      "  focused_df['PUFC09_GRADTECH'].fillna(2, inplace=True)\n"
     ]
    }
   ],
   "source": [
    "focused_df['PUFC09_GRADTECH'].fillna(2, inplace=True)\n",
    "\n",
    "print(focused_df.isnull().sum())"
   ]
  },
  {
   "cell_type": "markdown",
   "metadata": {},
   "source": [
    "Empty entries for `PUFC10_CONWR` (overseas Filipino indicator) is where we will apply imputation since several of the empty entries for this column had inputs for the succeeding columns which indicates that the person must belong to either category 4 (student/tourist) or 5 (others). Since 5 is the mode input for the column, we have defaulted it as such\n",
    "\n",
    "In the same column, we have decided to drop entries whose value for this column is either 1, 2, or 3 since it indicates that they are overseas Filipino workers which is not the primary focus of the dataset. Moreover it was indicated in the questionnaire that if the household member's answer belong to either of these three, then the interviewer may move on to the next member, essentially leaving the next columns as blank and only retaining minimal information. There were a total of 3,555 data entries that were removed."
   ]
  },
  {
   "cell_type": "code",
   "execution_count": 12,
   "metadata": {},
   "outputs": [
    {
     "name": "stderr",
     "output_type": "stream",
     "text": [
      "C:\\Users\\Matthew Sanchez\\AppData\\Local\\Temp\\ipykernel_18584\\2452935812.py:1: FutureWarning: A value is trying to be set on a copy of a DataFrame or Series through chained assignment using an inplace method.\n",
      "The behavior will change in pandas 3.0. This inplace method will never work because the intermediate object on which we are setting values always behaves as a copy.\n",
      "\n",
      "For example, when doing 'df[col].method(value, inplace=True)', try using 'df.method({col: value}, inplace=True)' or df[col] = df[col].method(value) instead, to perform the operation inplace on the original object.\n",
      "\n",
      "\n",
      "  focused_df[\"PUFC10_CONWR\"].fillna(5, inplace=True)\n"
     ]
    },
    {
     "name": "stdout",
     "output_type": "stream",
     "text": [
      "PUFC10_CONWR\n",
      "5    177278\n",
      "4        29\n",
      "Name: count, dtype: int64\n",
      "Remaining dataset size: 177307 rows\n",
      "PUFC11_WORK         18339\n",
      "PUFC05_AGE              0\n",
      "PUFC04_SEX              0\n",
      "PUFC06_MSTAT            0\n",
      "PUFC07_GRADE            0\n",
      "PUFC08_CURSCH           0\n",
      "PUFC09_GRADTECH         0\n",
      "PUFC10_CONWR            0\n",
      "PUFC38_PREVJOB     129137\n",
      "PUFC17_NATEM       105952\n",
      "PUFC30_LOOKW       129137\n",
      "PUFC31_FLWRK       175014\n",
      "PUFC37_WILLING     171338\n",
      "PUFC36_AVAIL       171338\n",
      "PUFC20_PWMORE      105952\n",
      "PUFC21_PLADDW      105952\n",
      "dtype: int64\n"
     ]
    }
   ],
   "source": [
    "focused_df[\"PUFC10_CONWR\"].fillna(5, inplace=True)\n",
    "\n",
    "focused_df[\"PUFC10_CONWR\"] = focused_df[\"PUFC10_CONWR\"].astype(str).str.strip().astype(int)\n",
    "focused_df = focused_df[~focused_df[\"PUFC10_CONWR\"].isin([1, 2, 3])]\n",
    "\n",
    "print(focused_df[\"PUFC10_CONWR\"].value_counts())  # Should only contain 4 and 5\n",
    "print(f\"Remaining dataset size: {focused_df.shape[0]} rows\")\n",
    "print(focused_df.isnull().sum())\n"
   ]
  },
  {
   "cell_type": "markdown",
   "metadata": {},
   "source": [
    "For empty entries of `PUFC38_PREVJOB`(previous job indicator) will be defaulted to a value of the mode to preserve the most common educational attainment."
   ]
  },
  {
   "cell_type": "code",
   "execution_count": 13,
   "metadata": {},
   "outputs": [
    {
     "name": "stderr",
     "output_type": "stream",
     "text": [
      "C:\\Users\\Matthew Sanchez\\AppData\\Local\\Temp\\ipykernel_18584\\3520289955.py:2: FutureWarning: A value is trying to be set on a copy of a DataFrame or Series through chained assignment using an inplace method.\n",
      "The behavior will change in pandas 3.0. This inplace method will never work because the intermediate object on which we are setting values always behaves as a copy.\n",
      "\n",
      "For example, when doing 'df[col].method(value, inplace=True)', try using 'df.method({col: value}, inplace=True)' or df[col] = df[col].method(value) instead, to perform the operation inplace on the original object.\n",
      "\n",
      "\n",
      "  focused_df[\"PUFC38_PREVJOB\"].fillna(mode_value, inplace=True)\n"
     ]
    },
    {
     "name": "stdout",
     "output_type": "stream",
     "text": [
      "PUFC11_WORK         18339\n",
      "PUFC05_AGE              0\n",
      "PUFC04_SEX              0\n",
      "PUFC06_MSTAT            0\n",
      "PUFC07_GRADE            0\n",
      "PUFC08_CURSCH           0\n",
      "PUFC09_GRADTECH         0\n",
      "PUFC10_CONWR            0\n",
      "PUFC38_PREVJOB          0\n",
      "PUFC17_NATEM       105952\n",
      "PUFC30_LOOKW       129137\n",
      "PUFC31_FLWRK       175014\n",
      "PUFC37_WILLING     171338\n",
      "PUFC36_AVAIL       171338\n",
      "PUFC20_PWMORE      105952\n",
      "PUFC21_PLADDW      105952\n",
      "dtype: int64\n"
     ]
    }
   ],
   "source": [
    "mode_value = focused_df[\"PUFC38_PREVJOB\"].mode()[0] \n",
    "focused_df[\"PUFC38_PREVJOB\"].fillna(mode_value, inplace=True)\n",
    "\n",
    "print(focused_df.isnull().sum())"
   ]
  },
  {
   "cell_type": "markdown",
   "metadata": {},
   "source": [
    "Empty entries for `PUFC37_WILLING` (willingness to take up work during the past 2 weeks) will be defaulted to a value of 2 since the questionnaire associated 2 with NO. We assume skip by omission which implies a NO. "
   ]
  },
  {
   "cell_type": "code",
   "execution_count": 14,
   "metadata": {},
   "outputs": [
    {
     "name": "stdout",
     "output_type": "stream",
     "text": [
      "PUFC11_WORK         18339\n",
      "PUFC05_AGE              0\n",
      "PUFC04_SEX              0\n",
      "PUFC06_MSTAT            0\n",
      "PUFC07_GRADE            0\n",
      "PUFC08_CURSCH           0\n",
      "PUFC09_GRADTECH         0\n",
      "PUFC10_CONWR            0\n",
      "PUFC38_PREVJOB          0\n",
      "PUFC17_NATEM       105952\n",
      "PUFC30_LOOKW       129137\n",
      "PUFC31_FLWRK       175014\n",
      "PUFC37_WILLING          0\n",
      "PUFC36_AVAIL       171338\n",
      "PUFC20_PWMORE      105952\n",
      "PUFC21_PLADDW      105952\n",
      "dtype: int64\n"
     ]
    },
    {
     "name": "stderr",
     "output_type": "stream",
     "text": [
      "C:\\Users\\Matthew Sanchez\\AppData\\Local\\Temp\\ipykernel_18584\\635163015.py:1: FutureWarning: A value is trying to be set on a copy of a DataFrame or Series through chained assignment using an inplace method.\n",
      "The behavior will change in pandas 3.0. This inplace method will never work because the intermediate object on which we are setting values always behaves as a copy.\n",
      "\n",
      "For example, when doing 'df[col].method(value, inplace=True)', try using 'df.method({col: value}, inplace=True)' or df[col] = df[col].method(value) instead, to perform the operation inplace on the original object.\n",
      "\n",
      "\n",
      "  focused_df['PUFC37_WILLING'].fillna(2, inplace=True)\n"
     ]
    }
   ],
   "source": [
    "focused_df['PUFC37_WILLING'].fillna(2, inplace=True)\n",
    "\n",
    "print(focused_df.isnull().sum())"
   ]
  },
  {
   "cell_type": "markdown",
   "metadata": {},
   "source": [
    "For empty entries of `PUFC36_AVAIL`(availability for work) will be defaulted to a value of the mode to preserve the most common educational attainment."
   ]
  },
  {
   "cell_type": "code",
   "execution_count": 15,
   "metadata": {},
   "outputs": [
    {
     "name": "stdout",
     "output_type": "stream",
     "text": [
      "PUFC11_WORK         18339\n",
      "PUFC05_AGE              0\n",
      "PUFC04_SEX              0\n",
      "PUFC06_MSTAT            0\n",
      "PUFC07_GRADE            0\n",
      "PUFC08_CURSCH           0\n",
      "PUFC09_GRADTECH         0\n",
      "PUFC10_CONWR            0\n",
      "PUFC38_PREVJOB          0\n",
      "PUFC17_NATEM       105952\n",
      "PUFC30_LOOKW       129137\n",
      "PUFC31_FLWRK       175014\n",
      "PUFC37_WILLING          0\n",
      "PUFC36_AVAIL            0\n",
      "PUFC20_PWMORE      105952\n",
      "PUFC21_PLADDW      105952\n",
      "dtype: int64\n"
     ]
    },
    {
     "name": "stderr",
     "output_type": "stream",
     "text": [
      "C:\\Users\\Matthew Sanchez\\AppData\\Local\\Temp\\ipykernel_18584\\368136757.py:2: FutureWarning: A value is trying to be set on a copy of a DataFrame or Series through chained assignment using an inplace method.\n",
      "The behavior will change in pandas 3.0. This inplace method will never work because the intermediate object on which we are setting values always behaves as a copy.\n",
      "\n",
      "For example, when doing 'df[col].method(value, inplace=True)', try using 'df.method({col: value}, inplace=True)' or df[col] = df[col].method(value) instead, to perform the operation inplace on the original object.\n",
      "\n",
      "\n",
      "  focused_df[\"PUFC36_AVAIL\"].fillna(mode_value, inplace=True)\n"
     ]
    }
   ],
   "source": [
    "mode_value = focused_df[\"PUFC36_AVAIL\"].mode()[0] \n",
    "focused_df[\"PUFC36_AVAIL\"].fillna(mode_value, inplace=True)\n",
    "\n",
    "print(focused_df.isnull().sum())"
   ]
  },
  {
   "cell_type": "markdown",
   "metadata": {},
   "source": [
    "Empty entries for `PUFC31_FLWRK` (looked for work or tried to establish a business) will be defaulted to a value of the mode to preserve the most common educational attainment."
   ]
  },
  {
   "cell_type": "code",
   "execution_count": 16,
   "metadata": {},
   "outputs": [
    {
     "name": "stderr",
     "output_type": "stream",
     "text": [
      "C:\\Users\\Matthew Sanchez\\AppData\\Local\\Temp\\ipykernel_18584\\2206246359.py:2: FutureWarning: A value is trying to be set on a copy of a DataFrame or Series through chained assignment using an inplace method.\n",
      "The behavior will change in pandas 3.0. This inplace method will never work because the intermediate object on which we are setting values always behaves as a copy.\n",
      "\n",
      "For example, when doing 'df[col].method(value, inplace=True)', try using 'df.method({col: value}, inplace=True)' or df[col] = df[col].method(value) instead, to perform the operation inplace on the original object.\n",
      "\n",
      "\n",
      "  focused_df[\"PUFC31_FLWRK\"].fillna(mode_value, inplace=True)\n"
     ]
    },
    {
     "name": "stdout",
     "output_type": "stream",
     "text": [
      "PUFC11_WORK         18339\n",
      "PUFC05_AGE              0\n",
      "PUFC04_SEX              0\n",
      "PUFC06_MSTAT            0\n",
      "PUFC07_GRADE            0\n",
      "PUFC08_CURSCH           0\n",
      "PUFC09_GRADTECH         0\n",
      "PUFC10_CONWR            0\n",
      "PUFC38_PREVJOB          0\n",
      "PUFC17_NATEM       105952\n",
      "PUFC30_LOOKW       129137\n",
      "PUFC31_FLWRK            0\n",
      "PUFC37_WILLING          0\n",
      "PUFC36_AVAIL            0\n",
      "PUFC20_PWMORE      105952\n",
      "PUFC21_PLADDW      105952\n",
      "dtype: int64\n"
     ]
    }
   ],
   "source": [
    "mode_value = focused_df[\"PUFC31_FLWRK\"].mode()[0] \n",
    "focused_df[\"PUFC31_FLWRK\"].fillna(mode_value, inplace=True)\n",
    "\n",
    "print(focused_df.isnull().sum())"
   ]
  },
  {
   "cell_type": "markdown",
   "metadata": {},
   "source": [
    "Empty entries for `PUFC30_LOOKW` (first time to look for work) will be defaulted to a value of the mode to preserve the most common educational attainment."
   ]
  },
  {
   "cell_type": "code",
   "execution_count": 17,
   "metadata": {},
   "outputs": [
    {
     "name": "stdout",
     "output_type": "stream",
     "text": [
      "PUFC11_WORK         18339\n",
      "PUFC05_AGE              0\n",
      "PUFC04_SEX              0\n",
      "PUFC06_MSTAT            0\n",
      "PUFC07_GRADE            0\n",
      "PUFC08_CURSCH           0\n",
      "PUFC09_GRADTECH         0\n",
      "PUFC10_CONWR            0\n",
      "PUFC38_PREVJOB          0\n",
      "PUFC17_NATEM       105952\n",
      "PUFC30_LOOKW            0\n",
      "PUFC31_FLWRK            0\n",
      "PUFC37_WILLING          0\n",
      "PUFC36_AVAIL            0\n",
      "PUFC20_PWMORE      105952\n",
      "PUFC21_PLADDW      105952\n",
      "dtype: int64"
     ]
    },
    {
     "name": "stderr",
     "output_type": "stream",
     "text": [
      "C:\\Users\\Matthew Sanchez\\AppData\\Local\\Temp\\ipykernel_18584\\1651078322.py:2: FutureWarning: A value is trying to be set on a copy of a DataFrame or Series through chained assignment using an inplace method.\n",
      "The behavior will change in pandas 3.0. This inplace method will never work because the intermediate object on which we are setting values always behaves as a copy.\n",
      "\n",
      "For example, when doing 'df[col].method(value, inplace=True)', try using 'df.method({col: value}, inplace=True)' or df[col] = df[col].method(value) instead, to perform the operation inplace on the original object.\n",
      "\n",
      "\n",
      "  focused_df[\"PUFC30_LOOKW\"].fillna(mode_value, inplace=True)\n"
     ]
    },
    {
     "name": "stdout",
     "output_type": "stream",
     "text": [
      "\n"
     ]
    }
   ],
   "source": [
    "mode_value = focused_df[\"PUFC30_LOOKW\"].mode()[0] \n",
    "focused_df[\"PUFC30_LOOKW\"].fillna(mode_value, inplace=True)\n",
    "\n",
    "print(focused_df.isnull().sum())"
   ]
  },
  {
   "cell_type": "markdown",
   "metadata": {},
   "source": [
    "Empty entries for `PUFC20_PWMORE` (want more hours of work) will be defaulted to a value of the mode to preserve the most common educational attainment."
   ]
  },
  {
   "cell_type": "code",
   "execution_count": 18,
   "metadata": {},
   "outputs": [
    {
     "name": "stdout",
     "output_type": "stream",
     "text": [
      "PUFC11_WORK         18339\n",
      "PUFC05_AGE              0\n",
      "PUFC04_SEX              0\n",
      "PUFC06_MSTAT            0\n",
      "PUFC07_GRADE            0\n",
      "PUFC08_CURSCH           0\n",
      "PUFC09_GRADTECH         0\n",
      "PUFC10_CONWR            0\n",
      "PUFC38_PREVJOB          0\n",
      "PUFC17_NATEM       105952\n",
      "PUFC30_LOOKW            0\n",
      "PUFC31_FLWRK            0\n",
      "PUFC37_WILLING          0\n",
      "PUFC36_AVAIL            0\n",
      "PUFC20_PWMORE           0\n",
      "PUFC21_PLADDW      105952\n",
      "dtype: int64\n"
     ]
    },
    {
     "name": "stderr",
     "output_type": "stream",
     "text": [
      "C:\\Users\\Matthew Sanchez\\AppData\\Local\\Temp\\ipykernel_18584\\1914309757.py:2: FutureWarning: A value is trying to be set on a copy of a DataFrame or Series through chained assignment using an inplace method.\n",
      "The behavior will change in pandas 3.0. This inplace method will never work because the intermediate object on which we are setting values always behaves as a copy.\n",
      "\n",
      "For example, when doing 'df[col].method(value, inplace=True)', try using 'df.method({col: value}, inplace=True)' or df[col] = df[col].method(value) instead, to perform the operation inplace on the original object.\n",
      "\n",
      "\n",
      "  focused_df[\"PUFC20_PWMORE\"].fillna(mode_value, inplace=True)\n"
     ]
    }
   ],
   "source": [
    "mode_value = focused_df[\"PUFC20_PWMORE\"].mode()[0] \n",
    "focused_df[\"PUFC20_PWMORE\"].fillna(mode_value, inplace=True)\n",
    "\n",
    "print(focused_df.isnull().sum())"
   ]
  },
  {
   "cell_type": "markdown",
   "metadata": {},
   "source": [
    "Empty entries for `PUFC17_NATEM` (nature of employment) will be defaulted to a value of the mode to preserve the most common educational attainment."
   ]
  },
  {
   "cell_type": "code",
   "execution_count": 19,
   "metadata": {},
   "outputs": [
    {
     "name": "stderr",
     "output_type": "stream",
     "text": [
      "C:\\Users\\Matthew Sanchez\\AppData\\Local\\Temp\\ipykernel_18584\\330010076.py:2: FutureWarning: A value is trying to be set on a copy of a DataFrame or Series through chained assignment using an inplace method.\n",
      "The behavior will change in pandas 3.0. This inplace method will never work because the intermediate object on which we are setting values always behaves as a copy.\n",
      "\n",
      "For example, when doing 'df[col].method(value, inplace=True)', try using 'df.method({col: value}, inplace=True)' or df[col] = df[col].method(value) instead, to perform the operation inplace on the original object.\n",
      "\n",
      "\n",
      "  focused_df[\"PUFC17_NATEM\"].fillna(mode_value, inplace=True)\n"
     ]
    },
    {
     "name": "stdout",
     "output_type": "stream",
     "text": [
      "PUFC11_WORK         18339\n",
      "PUFC05_AGE              0\n",
      "PUFC04_SEX              0\n",
      "PUFC06_MSTAT            0\n",
      "PUFC07_GRADE            0\n",
      "PUFC08_CURSCH           0\n",
      "PUFC09_GRADTECH         0\n",
      "PUFC10_CONWR            0\n",
      "PUFC38_PREVJOB          0\n",
      "PUFC17_NATEM            0\n",
      "PUFC30_LOOKW            0\n",
      "PUFC31_FLWRK            0\n",
      "PUFC37_WILLING          0\n",
      "PUFC36_AVAIL            0\n",
      "PUFC20_PWMORE           0\n",
      "PUFC21_PLADDW      105952\n",
      "dtype: int64\n"
     ]
    }
   ],
   "source": [
    "mode_value = focused_df[\"PUFC17_NATEM\"].mode()[0] \n",
    "focused_df[\"PUFC17_NATEM\"].fillna(mode_value, inplace=True)\n",
    "\n",
    "print(focused_df.isnull().sum())"
   ]
  },
  {
   "cell_type": "markdown",
   "metadata": {},
   "source": [
    "Empty entries for `PUFC21_PLADDW` (look for additional work) will be defaulted to a value of the mode to preserve the most common educational attainment."
   ]
  },
  {
   "cell_type": "code",
   "execution_count": 20,
   "metadata": {},
   "outputs": [
    {
     "name": "stdout",
     "output_type": "stream",
     "text": [
      "PUFC11_WORK        18339\n",
      "PUFC05_AGE             0\n",
      "PUFC04_SEX             0\n",
      "PUFC06_MSTAT           0\n",
      "PUFC07_GRADE           0\n",
      "PUFC08_CURSCH          0\n",
      "PUFC09_GRADTECH        0\n",
      "PUFC10_CONWR           0\n",
      "PUFC38_PREVJOB         0\n",
      "PUFC17_NATEM           0\n",
      "PUFC30_LOOKW           0\n",
      "PUFC31_FLWRK           0\n",
      "PUFC37_WILLING         0\n",
      "PUFC36_AVAIL           0\n",
      "PUFC20_PWMORE          0\n",
      "PUFC21_PLADDW          0\n",
      "dtype: int64\n"
     ]
    },
    {
     "name": "stderr",
     "output_type": "stream",
     "text": [
      "C:\\Users\\Matthew Sanchez\\AppData\\Local\\Temp\\ipykernel_18584\\1759329718.py:2: FutureWarning: A value is trying to be set on a copy of a DataFrame or Series through chained assignment using an inplace method.\n",
      "The behavior will change in pandas 3.0. This inplace method will never work because the intermediate object on which we are setting values always behaves as a copy.\n",
      "\n",
      "For example, when doing 'df[col].method(value, inplace=True)', try using 'df.method({col: value}, inplace=True)' or df[col] = df[col].method(value) instead, to perform the operation inplace on the original object.\n",
      "\n",
      "\n",
      "  focused_df[\"PUFC21_PLADDW\"].fillna(mode_value, inplace=True)\n"
     ]
    }
   ],
   "source": [
    "mode_value = focused_df[\"PUFC21_PLADDW\"].mode()[0] \n",
    "focused_df[\"PUFC21_PLADDW\"].fillna(mode_value, inplace=True)\n",
    "\n",
    "print(focused_df.isnull().sum())"
   ]
  },
  {
   "cell_type": "markdown",
   "metadata": {},
   "source": [
    "Lastly empty entries for `PUFC11_WORK` (work indicator) will be defaulted to a value of the mode to preserve the most common educational attainment."
   ]
  },
  {
   "cell_type": "code",
   "execution_count": 21,
   "metadata": {},
   "outputs": [
    {
     "name": "stdout",
     "output_type": "stream",
     "text": [
      "PUFC11_WORK        0\n",
      "PUFC05_AGE         0\n",
      "PUFC04_SEX         0\n",
      "PUFC06_MSTAT       0\n",
      "PUFC07_GRADE       0\n",
      "PUFC08_CURSCH      0\n",
      "PUFC09_GRADTECH    0\n",
      "PUFC10_CONWR       0\n",
      "PUFC38_PREVJOB     0\n",
      "PUFC17_NATEM       0\n",
      "PUFC30_LOOKW       0\n",
      "PUFC31_FLWRK       0\n",
      "PUFC37_WILLING     0\n",
      "PUFC36_AVAIL       0\n",
      "PUFC20_PWMORE      0\n",
      "PUFC21_PLADDW      0\n",
      "dtype: int64\n"
     ]
    },
    {
     "name": "stderr",
     "output_type": "stream",
     "text": [
      "C:\\Users\\Matthew Sanchez\\AppData\\Local\\Temp\\ipykernel_18584\\2451838814.py:2: FutureWarning: A value is trying to be set on a copy of a DataFrame or Series through chained assignment using an inplace method.\n",
      "The behavior will change in pandas 3.0. This inplace method will never work because the intermediate object on which we are setting values always behaves as a copy.\n",
      "\n",
      "For example, when doing 'df[col].method(value, inplace=True)', try using 'df.method({col: value}, inplace=True)' or df[col] = df[col].method(value) instead, to perform the operation inplace on the original object.\n",
      "\n",
      "\n",
      "  focused_df[\"PUFC11_WORK\"].fillna(mode_value, inplace=True)\n"
     ]
    }
   ],
   "source": [
    "mode_value = focused_df[\"PUFC11_WORK\"].mode()[0] \n",
    "focused_df[\"PUFC11_WORK\"].fillna(mode_value, inplace=True)\n",
    "\n",
    "print(focused_df.isnull().sum())"
   ]
  },
  {
   "cell_type": "markdown",
   "metadata": {},
   "source": [
    "Empty entries for `` ()"
   ]
  },
  {
   "cell_type": "code",
   "execution_count": null,
   "metadata": {},
   "outputs": [],
   "source": [
    "#focused_df.to_csv(r\"C:\\Users\\Matthew Sanchez\\Desktop\\3rdYr\\T2\\STINTSY\\cleaned_LFS_PUF_April_2016.csv\", index=False)"
   ]
  },
  {
   "cell_type": "markdown",
   "metadata": {},
   "source": [
    "## Section 5. Exploratory data analysis"
   ]
  },
  {
   "cell_type": "markdown",
   "metadata": {},
   "source": [
    "## Section 6. Initial model training"
   ]
  },
  {
   "cell_type": "markdown",
   "metadata": {},
   "source": [
    "## Section 7. Error analysis"
   ]
  },
  {
   "cell_type": "markdown",
   "metadata": {},
   "source": [
    "## Section 8. Improving model performance"
   ]
  },
  {
   "cell_type": "markdown",
   "metadata": {},
   "source": [
    "## Section 9. Model performance summary"
   ]
  },
  {
   "cell_type": "markdown",
   "metadata": {},
   "source": [
    "## Section 10. Insights and conclusions"
   ]
  },
  {
   "cell_type": "markdown",
   "metadata": {},
   "source": [
    "## Section 11. References"
   ]
  }
 ],
 "metadata": {
  "kernelspec": {
   "display_name": "Python 3",
   "language": "python",
   "name": "python3"
  },
  "language_info": {
   "codemirror_mode": {
    "name": "ipython",
    "version": 3
   },
   "file_extension": ".py",
   "mimetype": "text/x-python",
   "name": "python",
   "nbconvert_exporter": "python",
   "pygments_lexer": "ipython3",
   "version": "3.12.6"
  }
 },
 "nbformat": 4,
 "nbformat_minor": 2
}
