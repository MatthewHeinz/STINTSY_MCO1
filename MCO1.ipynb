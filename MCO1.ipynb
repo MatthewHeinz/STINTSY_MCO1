{
 "cells": [
  {
   "cell_type": "markdown",
   "metadata": {},
   "source": [
    "# MCO1 - Labor Force Survey 2016"
   ]
  },
  {
   "cell_type": "markdown",
   "metadata": {},
   "source": [
    "## Section 1. Introduction to the problem/task and dataset"
   ]
  },
  {
   "cell_type": "markdown",
   "metadata": {},
   "source": [
    "## Section 2. Description of the dataset"
   ]
  },
  {
   "cell_type": "markdown",
   "metadata": {},
   "source": [
    "[brief description of the dataset]"
   ]
  },
  {
   "cell_type": "markdown",
   "metadata": {},
   "source": [
    "[Provide a description of the collection process executed to build the dataset. Discuss the implications of the data collection method on the generated conclusions and insights]"
   ]
  },
  {
   "cell_type": "code",
   "execution_count": 1,
   "metadata": {},
   "outputs": [
    {
     "data": {
      "text/html": [
       "<div>\n",
       "<style scoped>\n",
       "    .dataframe tbody tr th:only-of-type {\n",
       "        vertical-align: middle;\n",
       "    }\n",
       "\n",
       "    .dataframe tbody tr th {\n",
       "        vertical-align: top;\n",
       "    }\n",
       "\n",
       "    .dataframe thead th {\n",
       "        text-align: right;\n",
       "    }\n",
       "</style>\n",
       "<table border=\"1\" class=\"dataframe\">\n",
       "  <thead>\n",
       "    <tr style=\"text-align: right;\">\n",
       "      <th></th>\n",
       "      <th>PUFREG</th>\n",
       "      <th>PUFPRV</th>\n",
       "      <th>PUFPRRCD</th>\n",
       "      <th>PUFHHNUM</th>\n",
       "      <th>PUFURB2K10</th>\n",
       "      <th>PUFPWGTFIN</th>\n",
       "      <th>PUFSVYMO</th>\n",
       "      <th>PUFSVYYR</th>\n",
       "      <th>PUFPSU</th>\n",
       "      <th>PUFRPL</th>\n",
       "      <th>...</th>\n",
       "      <th>PUFC33_WEEKS</th>\n",
       "      <th>PUFC34_WYNOT</th>\n",
       "      <th>PUFC35_LTLOOKW</th>\n",
       "      <th>PUFC36_AVAIL</th>\n",
       "      <th>PUFC37_WILLING</th>\n",
       "      <th>PUFC38_PREVJOB</th>\n",
       "      <th>PUFC40_POCC</th>\n",
       "      <th>PUFC41_WQTR</th>\n",
       "      <th>PUFC43_QKB</th>\n",
       "      <th>PUFNEWEMPSTAT</th>\n",
       "    </tr>\n",
       "  </thead>\n",
       "  <tbody>\n",
       "    <tr>\n",
       "      <th>0</th>\n",
       "      <td>1</td>\n",
       "      <td>28</td>\n",
       "      <td>2800</td>\n",
       "      <td>1</td>\n",
       "      <td>2</td>\n",
       "      <td>405.2219</td>\n",
       "      <td>4</td>\n",
       "      <td>2016</td>\n",
       "      <td>217</td>\n",
       "      <td>1</td>\n",
       "      <td>...</td>\n",
       "      <td></td>\n",
       "      <td></td>\n",
       "      <td></td>\n",
       "      <td></td>\n",
       "      <td></td>\n",
       "      <td></td>\n",
       "      <td></td>\n",
       "      <td>1</td>\n",
       "      <td>01</td>\n",
       "      <td>1</td>\n",
       "    </tr>\n",
       "    <tr>\n",
       "      <th>1</th>\n",
       "      <td>1</td>\n",
       "      <td>28</td>\n",
       "      <td>2800</td>\n",
       "      <td>1</td>\n",
       "      <td>2</td>\n",
       "      <td>388.8280</td>\n",
       "      <td>4</td>\n",
       "      <td>2016</td>\n",
       "      <td>217</td>\n",
       "      <td>1</td>\n",
       "      <td>...</td>\n",
       "      <td></td>\n",
       "      <td></td>\n",
       "      <td></td>\n",
       "      <td></td>\n",
       "      <td></td>\n",
       "      <td></td>\n",
       "      <td></td>\n",
       "      <td>1</td>\n",
       "      <td>01</td>\n",
       "      <td>1</td>\n",
       "    </tr>\n",
       "    <tr>\n",
       "      <th>2</th>\n",
       "      <td>1</td>\n",
       "      <td>28</td>\n",
       "      <td>2800</td>\n",
       "      <td>1</td>\n",
       "      <td>2</td>\n",
       "      <td>406.1194</td>\n",
       "      <td>4</td>\n",
       "      <td>2016</td>\n",
       "      <td>217</td>\n",
       "      <td>1</td>\n",
       "      <td>...</td>\n",
       "      <td></td>\n",
       "      <td></td>\n",
       "      <td></td>\n",
       "      <td></td>\n",
       "      <td></td>\n",
       "      <td></td>\n",
       "      <td></td>\n",
       "      <td>1</td>\n",
       "      <td>01</td>\n",
       "      <td>1</td>\n",
       "    </tr>\n",
       "    <tr>\n",
       "      <th>3</th>\n",
       "      <td>1</td>\n",
       "      <td>28</td>\n",
       "      <td>2800</td>\n",
       "      <td>2</td>\n",
       "      <td>2</td>\n",
       "      <td>405.2219</td>\n",
       "      <td>4</td>\n",
       "      <td>2016</td>\n",
       "      <td>217</td>\n",
       "      <td>1</td>\n",
       "      <td>...</td>\n",
       "      <td></td>\n",
       "      <td></td>\n",
       "      <td></td>\n",
       "      <td></td>\n",
       "      <td></td>\n",
       "      <td></td>\n",
       "      <td></td>\n",
       "      <td>1</td>\n",
       "      <td>01</td>\n",
       "      <td>1</td>\n",
       "    </tr>\n",
       "    <tr>\n",
       "      <th>4</th>\n",
       "      <td>1</td>\n",
       "      <td>28</td>\n",
       "      <td>2800</td>\n",
       "      <td>2</td>\n",
       "      <td>2</td>\n",
       "      <td>384.3556</td>\n",
       "      <td>4</td>\n",
       "      <td>2016</td>\n",
       "      <td>217</td>\n",
       "      <td>1</td>\n",
       "      <td>...</td>\n",
       "      <td></td>\n",
       "      <td></td>\n",
       "      <td></td>\n",
       "      <td></td>\n",
       "      <td></td>\n",
       "      <td></td>\n",
       "      <td></td>\n",
       "      <td>1</td>\n",
       "      <td>96</td>\n",
       "      <td>1</td>\n",
       "    </tr>\n",
       "  </tbody>\n",
       "</table>\n",
       "<p>5 rows × 50 columns</p>\n",
       "</div>"
      ],
      "text/plain": [
       "   PUFREG  PUFPRV  PUFPRRCD  PUFHHNUM  PUFURB2K10  PUFPWGTFIN  PUFSVYMO  \\\n",
       "0       1      28      2800         1           2    405.2219         4   \n",
       "1       1      28      2800         1           2    388.8280         4   \n",
       "2       1      28      2800         1           2    406.1194         4   \n",
       "3       1      28      2800         2           2    405.2219         4   \n",
       "4       1      28      2800         2           2    384.3556         4   \n",
       "\n",
       "   PUFSVYYR  PUFPSU  PUFRPL  ...  PUFC33_WEEKS  PUFC34_WYNOT  PUFC35_LTLOOKW  \\\n",
       "0      2016     217       1  ...                                               \n",
       "1      2016     217       1  ...                                               \n",
       "2      2016     217       1  ...                                               \n",
       "3      2016     217       1  ...                                               \n",
       "4      2016     217       1  ...                                               \n",
       "\n",
       "   PUFC36_AVAIL  PUFC37_WILLING PUFC38_PREVJOB PUFC40_POCC PUFC41_WQTR  \\\n",
       "0                                                                    1   \n",
       "1                                                                    1   \n",
       "2                                                                    1   \n",
       "3                                                                    1   \n",
       "4                                                                    1   \n",
       "\n",
       "  PUFC43_QKB PUFNEWEMPSTAT  \n",
       "0         01             1  \n",
       "1         01             1  \n",
       "2         01             1  \n",
       "3         01             1  \n",
       "4         96             1  \n",
       "\n",
       "[5 rows x 50 columns]"
      ]
     },
     "metadata": {},
     "output_type": "display_data"
    },
    {
     "name": "stdout",
     "output_type": "stream",
     "text": [
      "<class 'pandas.core.frame.DataFrame'>\n",
      "RangeIndex: 180862 entries, 0 to 180861\n",
      "Data columns (total 50 columns):\n",
      " #   Column           Non-Null Count   Dtype  \n",
      "---  ------           --------------   -----  \n",
      " 0   PUFREG           180862 non-null  int64  \n",
      " 1   PUFPRV           180862 non-null  int64  \n",
      " 2   PUFPRRCD         180862 non-null  int64  \n",
      " 3   PUFHHNUM         180862 non-null  int64  \n",
      " 4   PUFURB2K10       180862 non-null  int64  \n",
      " 5   PUFPWGTFIN       180862 non-null  float64\n",
      " 6   PUFSVYMO         180862 non-null  int64  \n",
      " 7   PUFSVYYR         180862 non-null  int64  \n",
      " 8   PUFPSU           180862 non-null  int64  \n",
      " 9   PUFRPL           180862 non-null  int64  \n",
      " 10  PUFHHSIZE        180862 non-null  int64  \n",
      " 11  PUFC01_LNO       180862 non-null  int64  \n",
      " 12  PUFC03_REL       180862 non-null  int64  \n",
      " 13  PUFC04_SEX       180862 non-null  int64  \n",
      " 14  PUFC05_AGE       180862 non-null  int64  \n",
      " 15  PUFC06_MSTAT     180862 non-null  object \n",
      " 16  PUFC07_GRADE     180862 non-null  object \n",
      " 17  PUFC08_CURSCH    180862 non-null  object \n",
      " 18  PUFC09_GRADTECH  180862 non-null  object \n",
      " 19  PUFC10_CONWR     180862 non-null  object \n",
      " 20  PUFC11_WORK      180862 non-null  object \n",
      " 21  PUFC12_JOB       180862 non-null  object \n",
      " 22  PUFC14_PROCC     180862 non-null  object \n",
      " 23  PUFC16_PKB       180862 non-null  object \n",
      " 24  PUFC17_NATEM     180862 non-null  object \n",
      " 25  PUFC18_PNWHRS    180862 non-null  object \n",
      " 26  PUFC19_PHOURS    180862 non-null  object \n",
      " 27  PUFC20_PWMORE    180862 non-null  object \n",
      " 28  PUFC21_PLADDW    180862 non-null  object \n",
      " 29  PUFC22_PFWRK     180862 non-null  object \n",
      " 30  PUFC23_PCLASS    180862 non-null  object \n",
      " 31  PUFC24_PBASIS    180862 non-null  object \n",
      " 32  PUFC25_PBASIC    180862 non-null  object \n",
      " 33  PUFC26_OJOB      180862 non-null  object \n",
      " 34  PUFC27_NJOBS     180862 non-null  object \n",
      " 35  PUFC28_THOURS    180862 non-null  object \n",
      " 36  PUFC29_WWM48H    180862 non-null  object \n",
      " 37  PUFC30_LOOKW     180862 non-null  object \n",
      " 38  PUFC31_FLWRK     180862 non-null  object \n",
      " 39  PUFC32_JOBSM     180862 non-null  object \n",
      " 40  PUFC33_WEEKS     180862 non-null  object \n",
      " 41  PUFC34_WYNOT     180862 non-null  object \n",
      " 42  PUFC35_LTLOOKW   180862 non-null  object \n",
      " 43  PUFC36_AVAIL     180862 non-null  object \n",
      " 44  PUFC37_WILLING   180862 non-null  object \n",
      " 45  PUFC38_PREVJOB   180862 non-null  object \n",
      " 46  PUFC40_POCC      180862 non-null  object \n",
      " 47  PUFC41_WQTR      180862 non-null  object \n",
      " 48  PUFC43_QKB       180862 non-null  object \n",
      " 49  PUFNEWEMPSTAT    180862 non-null  object \n",
      "dtypes: float64(1), int64(14), object(35)\n",
      "memory usage: 69.0+ MB\n"
     ]
    },
    {
     "data": {
      "text/plain": [
       "None"
      ]
     },
     "metadata": {},
     "output_type": "display_data"
    }
   ],
   "source": [
    "import pandas as pd\n",
    "import numpy as np\n",
    "\n",
    "df = pd.read_csv(\"PHL-PSA-LFS-2016-Q2-PUF/LFS PUF April 2016.CSV\")\n",
    "\n",
    "display(df.head())\n",
    "display(df.info())"
   ]
  },
  {
   "cell_type": "markdown",
   "metadata": {},
   "source": [
    "• Describe the structure of the dataset file.\n",
    "\n",
    "o What does each row and column represent?\n",
    "\n",
    "o How many instances are there in the dataset?\n",
    "\n",
    "o How many features are there in the dataset?\n",
    "\n",
    "o If the dataset is composed of different files that you will combine in the succeeding\n",
    "steps, describe the structure and the contents of each file."
   ]
  },
  {
   "cell_type": "markdown",
   "metadata": {},
   "source": [
    "[Discuss the features in each dataset file. What does each feature represent? All features,\n",
    "even those which are not used for the study, should be described to the reader. The\n",
    "purpose of each feature in the dataset should be clear to the reader of the notebook\n",
    "without having to go through an external link]"
   ]
  },
  {
   "cell_type": "markdown",
   "metadata": {},
   "source": [
    "## Section 3. List of requirements"
   ]
  },
  {
   "cell_type": "markdown",
   "metadata": {},
   "source": [
    "## Section 4. Data preprocessing and cleaning"
   ]
  },
  {
   "cell_type": "markdown",
   "metadata": {},
   "source": [
    "It is good practice to first make a copy of the dataframe in order to preserve the original data for any future comparison and analysis.\n",
    "\n",
    "We then always start of by finding any null values in our dataset. Usually `.isnull()` would suffice in searching for such values although it's not the case for the labor force dataset. However, we were able to find empty entries by checking for any whitespaces which can be a common input in CSV files."
   ]
  },
  {
   "cell_type": "code",
   "execution_count": 2,
   "metadata": {},
   "outputs": [
    {
     "name": "stdout",
     "output_type": "stream",
     "text": [
      "PUFREG                  0\n",
      "PUFPRV                  0\n",
      "PUFPRRCD                0\n",
      "PUFHHNUM                0\n",
      "PUFURB2K10              0\n",
      "PUFPWGTFIN              0\n",
      "PUFSVYMO                0\n",
      "PUFSVYYR                0\n",
      "PUFPSU                  0\n",
      "PUFRPL                  0\n",
      "PUFHHSIZE               0\n",
      "PUFC01_LNO              0\n",
      "PUFC03_REL              0\n",
      "PUFC04_SEX              0\n",
      "PUFC05_AGE              0\n",
      "PUFC06_MSTAT        18339\n",
      "PUFC07_GRADE            0\n",
      "PUFC08_CURSCH      107137\n",
      "PUFC09_GRADTECH     57782\n",
      "PUFC10_CONWR        57782\n",
      "PUFC11_WORK         21894\n",
      "PUFC12_JOB          93306\n",
      "PUFC14_PROCC            0\n",
      "PUFC16_PKB              0\n",
      "PUFC17_NATEM       109507\n",
      "PUFC18_PNWHRS           0\n",
      "PUFC19_PHOURS           0\n",
      "PUFC20_PWMORE      109507\n",
      "PUFC21_PLADDW      109507\n",
      "PUFC22_PFWRK       109507\n",
      "PUFC23_PCLASS      109507\n",
      "PUFC24_PBASIS      138947\n",
      "PUFC25_PBASIC           0\n",
      "PUFC26_OJOB        109507\n",
      "PUFC27_NJOBS       174924\n",
      "PUFC28_THOURS           0\n",
      "PUFC29_WWM48H      163629\n",
      "PUFC30_LOOKW       132692\n",
      "PUFC31_FLWRK       178569\n",
      "PUFC32_JOBSM       178569\n",
      "PUFC33_WEEKS            0\n",
      "PUFC34_WYNOT       134985\n",
      "PUFC35_LTLOOKW     179269\n",
      "PUFC36_AVAIL       174893\n",
      "PUFC37_WILLING     174893\n",
      "PUFC38_PREVJOB     132692\n",
      "PUFC40_POCC             0\n",
      "PUFC41_WQTR         81627\n",
      "PUFC43_QKB              0\n",
      "PUFNEWEMPSTAT       61337\n",
      "dtype: int64\n"
     ]
    }
   ],
   "source": [
    "clean_df = df\n",
    "\n",
    "print((df == ' ').sum()) "
   ]
  },
  {
   "cell_type": "markdown",
   "metadata": {},
   "source": [
    "Empty entries for `PUFC06_MSTAT` (marital status) will be defaulted to a value of 6 since the questionnaire associated 6 with \"Unknown\"."
   ]
  },
  {
   "cell_type": "code",
   "execution_count": 3,
   "metadata": {},
   "outputs": [
    {
     "name": "stdout",
     "output_type": "stream",
     "text": [
      "PUFC06_MSTAT\n",
      "1    80708\n",
      "2    71967\n",
      "6    18390\n",
      "3     7207\n",
      "4     2566\n",
      "5       24\n",
      "Name: count, dtype: int64\n"
     ]
    },
    {
     "name": "stderr",
     "output_type": "stream",
     "text": [
      "C:\\Users\\Matthew Sanchez\\AppData\\Local\\Temp\\ipykernel_34248\\1137852278.py:1: FutureWarning: A value is trying to be set on a copy of a DataFrame or Series through chained assignment using an inplace method.\n",
      "The behavior will change in pandas 3.0. This inplace method will never work because the intermediate object on which we are setting values always behaves as a copy.\n",
      "\n",
      "For example, when doing 'df[col].method(value, inplace=True)', try using 'df.method({col: value}, inplace=True)' or df[col] = df[col].method(value) instead, to perform the operation inplace on the original object.\n",
      "\n",
      "\n",
      "  clean_df['PUFC06_MSTAT'].replace(r'^\\s*$', 6, regex=True, inplace=True)\n"
     ]
    }
   ],
   "source": [
    "clean_df['PUFC06_MSTAT'].replace(r'^\\s*$', 6, regex=True, inplace=True)\n",
    "clean_df['PUFC06_MSTAT'] = clean_df['PUFC06_MSTAT'].astype(str).str.strip().astype(int)\n",
    "print(clean_df['PUFC06_MSTAT'].value_counts())"
   ]
  },
  {
   "cell_type": "markdown",
   "metadata": {},
   "source": [
    "Empty entries for `PUFC08_CURSCH` (currently attending school) will be defaulted to a value of 2 since the questionnaire associated 2 with NO. We assume skip by omission which implies a NO."
   ]
  },
  {
   "cell_type": "code",
   "execution_count": 4,
   "metadata": {},
   "outputs": [
    {
     "name": "stdout",
     "output_type": "stream",
     "text": [
      "PUFC08_CURSCH\n",
      "2    129219\n",
      "1     51643\n",
      "Name: count, dtype: int64\n"
     ]
    },
    {
     "name": "stderr",
     "output_type": "stream",
     "text": [
      "C:\\Users\\Matthew Sanchez\\AppData\\Local\\Temp\\ipykernel_34248\\2610051238.py:1: FutureWarning: A value is trying to be set on a copy of a DataFrame or Series through chained assignment using an inplace method.\n",
      "The behavior will change in pandas 3.0. This inplace method will never work because the intermediate object on which we are setting values always behaves as a copy.\n",
      "\n",
      "For example, when doing 'df[col].method(value, inplace=True)', try using 'df.method({col: value}, inplace=True)' or df[col] = df[col].method(value) instead, to perform the operation inplace on the original object.\n",
      "\n",
      "\n",
      "  clean_df['PUFC08_CURSCH'].replace(r'^\\s*$', 2, regex=True, inplace=True)\n"
     ]
    }
   ],
   "source": [
    "clean_df['PUFC08_CURSCH'].replace(r'^\\s*$', 2, regex=True, inplace=True)\n",
    "clean_df['PUFC08_CURSCH'] = clean_df['PUFC08_CURSCH'].astype(str).str.strip().astype(int)\n",
    "print(clean_df['PUFC08_CURSCH'].value_counts())"
   ]
  },
  {
   "cell_type": "markdown",
   "metadata": {},
   "source": [
    "Empty entries for `PUFC09_GRADTECH` (graduate of technical/vocational course) will be defaulted to a value of 2 since the questionnaire associated 2 with NO. We assume skip by omission which implies a NO."
   ]
  },
  {
   "cell_type": "code",
   "execution_count": 5,
   "metadata": {},
   "outputs": [
    {
     "name": "stdout",
     "output_type": "stream",
     "text": [
      "PUFC09_GRADTECH\n",
      "2    174949\n",
      "1      5913\n",
      "Name: count, dtype: int64"
     ]
    },
    {
     "name": "stderr",
     "output_type": "stream",
     "text": [
      "C:\\Users\\Matthew Sanchez\\AppData\\Local\\Temp\\ipykernel_34248\\620133853.py:1: FutureWarning: A value is trying to be set on a copy of a DataFrame or Series through chained assignment using an inplace method.\n",
      "The behavior will change in pandas 3.0. This inplace method will never work because the intermediate object on which we are setting values always behaves as a copy.\n",
      "\n",
      "For example, when doing 'df[col].method(value, inplace=True)', try using 'df.method({col: value}, inplace=True)' or df[col] = df[col].method(value) instead, to perform the operation inplace on the original object.\n",
      "\n",
      "\n",
      "  clean_df['PUFC09_GRADTECH'].replace(r'^\\s*$', 2, regex=True, inplace=True)\n"
     ]
    },
    {
     "name": "stdout",
     "output_type": "stream",
     "text": [
      "\n"
     ]
    }
   ],
   "source": [
    "clean_df['PUFC09_GRADTECH'].replace(r'^\\s*$', 2, regex=True, inplace=True)\n",
    "clean_df['PUFC09_GRADTECH'] = clean_df['PUFC09_GRADTECH'].astype(str).str.strip().astype(int)\n",
    "print(clean_df['PUFC09_GRADTECH'].value_counts())"
   ]
  },
  {
   "cell_type": "markdown",
   "metadata": {},
   "source": [
    "Empty entries for `PUFC10_CONWR` (overseas Filipino indicator) is where we will apply imputation since several of the empty entries for this column had inputs for the succeeding columns which indicates that the person must belong to either category 4 (student/tourist) or 5 (others). Since 5 is the mode input for the column, we have defaulted it as such\n",
    "\n",
    "In the same column, we have decided to drop entries whose value for this column is either 1, 2, or 3 since it indicates that they are overseas Filipino workers which is not the primary focus of the dataset. Moreover it was indicated in the questionnaire that if the household member's answer belong to either of these three, then the interviewer may move on to the next member, essentially leaving the next columns as blank and only retaining minimal information. There were a total of 3,555 data entries that were removed."
   ]
  },
  {
   "cell_type": "code",
   "execution_count": 6,
   "metadata": {},
   "outputs": [
    {
     "name": "stderr",
     "output_type": "stream",
     "text": [
      "C:\\Users\\Matthew Sanchez\\AppData\\Local\\Temp\\ipykernel_34248\\2522421437.py:1: FutureWarning: A value is trying to be set on a copy of a DataFrame or Series through chained assignment using an inplace method.\n",
      "The behavior will change in pandas 3.0. This inplace method will never work because the intermediate object on which we are setting values always behaves as a copy.\n",
      "\n",
      "For example, when doing 'df[col].method(value, inplace=True)', try using 'df.method({col: value}, inplace=True)' or df[col] = df[col].method(value) instead, to perform the operation inplace on the original object.\n",
      "\n",
      "\n",
      "  clean_df['PUFC10_CONWR'].replace(r'^\\s*$', 5, regex=True, inplace=True)\n"
     ]
    },
    {
     "name": "stdout",
     "output_type": "stream",
     "text": [
      "PUFC10_CONWR\n",
      "5    177278\n",
      "4        29\n",
      "Name: count, dtype: int64\n"
     ]
    }
   ],
   "source": [
    "clean_df['PUFC10_CONWR'].replace(r'^\\s*$', 5, regex=True, inplace=True)\n",
    "clean_df['PUFC10_CONWR'] = clean_df['PUFC10_CONWR'].astype(str).str.strip().astype(int)\n",
    "clean_df = clean_df[~clean_df['PUFC10_CONWR'].isin([1, 2, 3])]\n",
    "print(clean_df['PUFC10_CONWR'].value_counts())"
   ]
  },
  {
   "cell_type": "markdown",
   "metadata": {},
   "source": [
    "Empty entries for `PUFC11_WORK` (work indicator) will assume the value of 2 for NO as a way to show skip by omission."
   ]
  },
  {
   "cell_type": "code",
   "execution_count": 7,
   "metadata": {},
   "outputs": [
    {
     "name": "stderr",
     "output_type": "stream",
     "text": [
      "C:\\Users\\Matthew Sanchez\\AppData\\Local\\Temp\\ipykernel_34248\\2714732867.py:1: FutureWarning: A value is trying to be set on a copy of a DataFrame or Series through chained assignment using an inplace method.\n",
      "The behavior will change in pandas 3.0. This inplace method will never work because the intermediate object on which we are setting values always behaves as a copy.\n",
      "\n",
      "For example, when doing 'df[col].method(value, inplace=True)', try using 'df.method({col: value}, inplace=True)' or df[col] = df[col].method(value) instead, to perform the operation inplace on the original object.\n",
      "\n",
      "\n",
      "  clean_df['PUFC11_WORK'].replace(r'^\\s*$', 2, regex=True, inplace=True)\n"
     ]
    },
    {
     "name": "stdout",
     "output_type": "stream",
     "text": [
      "PUFC11_WORK\n",
      "2    105895\n",
      "1     71412\n",
      "Name: count, dtype: int64\n"
     ]
    },
    {
     "name": "stderr",
     "output_type": "stream",
     "text": [
      "C:\\Users\\Matthew Sanchez\\AppData\\Local\\Temp\\ipykernel_34248\\2714732867.py:1: SettingWithCopyWarning: \n",
      "A value is trying to be set on a copy of a slice from a DataFrame\n",
      "\n",
      "See the caveats in the documentation: https://pandas.pydata.org/pandas-docs/stable/user_guide/indexing.html#returning-a-view-versus-a-copy\n",
      "  clean_df['PUFC11_WORK'].replace(r'^\\s*$', 2, regex=True, inplace=True)\n",
      "C:\\Users\\Matthew Sanchez\\AppData\\Local\\Temp\\ipykernel_34248\\2714732867.py:2: SettingWithCopyWarning: \n",
      "A value is trying to be set on a copy of a slice from a DataFrame.\n",
      "Try using .loc[row_indexer,col_indexer] = value instead\n",
      "\n",
      "See the caveats in the documentation: https://pandas.pydata.org/pandas-docs/stable/user_guide/indexing.html#returning-a-view-versus-a-copy\n",
      "  clean_df['PUFC11_WORK'] = clean_df['PUFC11_WORK'].astype(str).str.strip().astype(int)\n"
     ]
    }
   ],
   "source": [
    "clean_df['PUFC11_WORK'].replace(r'^\\s*$', 2, regex=True, inplace=True)\n",
    "clean_df['PUFC11_WORK'] = clean_df['PUFC11_WORK'].astype(str).str.strip().astype(int)\n",
    "print(clean_df['PUFC11_WORK'].value_counts())"
   ]
  },
  {
   "cell_type": "markdown",
   "metadata": {},
   "source": [
    "If `PUFC11_WORK` = 1 (YES) the respondent should have skipped `PUFC12_JOB` which we will set a value of 0 to indicate unapplicability for the repondent.\n",
    "\n",
    "If `PUFC11_WORK` = 2 (NO) and `PUFC12_JOB` still has an empty input then it is considered as a missing data where the mode is assigned"
   ]
  },
  {
   "cell_type": "code",
   "execution_count": 8,
   "metadata": {},
   "outputs": [
    {
     "name": "stdout",
     "output_type": "stream",
     "text": [
      "PUFC12_JOB\n",
      "2    104805\n",
      "0     71412\n",
      "1      1090\n",
      "Name: count, dtype: int64"
     ]
    },
    {
     "name": "stderr",
     "output_type": "stream",
     "text": [
      "C:\\Users\\Matthew Sanchez\\AppData\\Local\\Temp\\ipykernel_34248\\1019334791.py:1: SettingWithCopyWarning: \n",
      "A value is trying to be set on a copy of a slice from a DataFrame.\n",
      "Try using .loc[row_indexer,col_indexer] = value instead\n",
      "\n",
      "See the caveats in the documentation: https://pandas.pydata.org/pandas-docs/stable/user_guide/indexing.html#returning-a-view-versus-a-copy\n",
      "  clean_df['PUFC11_WORK'] = clean_df['PUFC11_WORK'].astype(str).str.strip()\n",
      "C:\\Users\\Matthew Sanchez\\AppData\\Local\\Temp\\ipykernel_34248\\1019334791.py:2: SettingWithCopyWarning: \n",
      "A value is trying to be set on a copy of a slice from a DataFrame.\n",
      "Try using .loc[row_indexer,col_indexer] = value instead\n",
      "\n",
      "See the caveats in the documentation: https://pandas.pydata.org/pandas-docs/stable/user_guide/indexing.html#returning-a-view-versus-a-copy\n",
      "  clean_df['PUFC12_JOB'] = clean_df['PUFC12_JOB'].astype(str).str.strip()\n"
     ]
    },
    {
     "name": "stdout",
     "output_type": "stream",
     "text": [
      "\n"
     ]
    }
   ],
   "source": [
    "clean_df['PUFC11_WORK'] = clean_df['PUFC11_WORK'].astype(str).str.strip()\n",
    "clean_df['PUFC12_JOB'] = clean_df['PUFC12_JOB'].astype(str).str.strip()\n",
    "\n",
    "# CASE 1: If PUFC11_WORK = \"1\" (YES), PUFC12_JOB should be skipped → Set to 0\n",
    "clean_df.loc[clean_df['PUFC11_WORK'] == '1', 'PUFC12_JOB'] = 0  \n",
    "\n",
    "# CASE 2: If PUFC11_WORK = \"2\" (NO) but PUFC12_JOB is empty → Replace with mode value\n",
    "mode_value = clean_df.loc[clean_df['PUFC11_WORK'] == '2', 'PUFC12_JOB']\n",
    "mode_value = mode_value[mode_value != ''].mode()[0]  # Ensure mode is calculated only for non-empty values\n",
    "clean_df.loc[(clean_df['PUFC11_WORK'] == '2') & (clean_df['PUFC12_JOB'] == ''), 'PUFC12_JOB'] = mode_value  \n",
    "\n",
    "print(clean_df['PUFC12_JOB'].value_counts())"
   ]
  },
  {
   "cell_type": "markdown",
   "metadata": {},
   "source": [
    "If `PUFC12_JOB` = 2 (NO) the respondent should have skipped `PUFC17_NATEM` which we will set a value of 0 to indicate unapplicability for the repondent.\n",
    "\n",
    "If `PUFC12_JOB` = 1 (YES) and `PUFC17_NATEM` still has an empty input then it is considered as a missing data where the mode is assigned"
   ]
  },
  {
   "cell_type": "code",
   "execution_count": 9,
   "metadata": {},
   "outputs": [
    {
     "name": "stderr",
     "output_type": "stream",
     "text": [
      "C:\\Users\\Matthew Sanchez\\AppData\\Local\\Temp\\ipykernel_34248\\649078166.py:2: SettingWithCopyWarning: \n",
      "A value is trying to be set on a copy of a slice from a DataFrame.\n",
      "Try using .loc[row_indexer,col_indexer] = value instead\n",
      "\n",
      "See the caveats in the documentation: https://pandas.pydata.org/pandas-docs/stable/user_guide/indexing.html#returning-a-view-versus-a-copy\n",
      "  clean_df['PUFC12_JOB'] = clean_df['PUFC12_JOB'].astype(str).str.strip()\n",
      "C:\\Users\\Matthew Sanchez\\AppData\\Local\\Temp\\ipykernel_34248\\649078166.py:3: SettingWithCopyWarning: \n",
      "A value is trying to be set on a copy of a slice from a DataFrame.\n",
      "Try using .loc[row_indexer,col_indexer] = value instead\n",
      "\n",
      "See the caveats in the documentation: https://pandas.pydata.org/pandas-docs/stable/user_guide/indexing.html#returning-a-view-versus-a-copy\n",
      "  clean_df['PUFC17_NATEM'] = clean_df['PUFC17_NATEM'].astype(str).str.strip()\n",
      "C:\\Users\\Matthew Sanchez\\AppData\\Local\\Temp\\ipykernel_34248\\649078166.py:6: FutureWarning: A value is trying to be set on a copy of a DataFrame or Series through chained assignment using an inplace method.\n",
      "The behavior will change in pandas 3.0. This inplace method will never work because the intermediate object on which we are setting values always behaves as a copy.\n",
      "\n",
      "For example, when doing 'df[col].method(value, inplace=True)', try using 'df.method({col: value}, inplace=True)' or df[col] = df[col].method(value) instead, to perform the operation inplace on the original object.\n",
      "\n",
      "\n",
      "  clean_df['PUFC17_NATEM'].replace(r'^\\s*$', np.nan, regex=True, inplace=True)\n",
      "C:\\Users\\Matthew Sanchez\\AppData\\Local\\Temp\\ipykernel_34248\\649078166.py:6: SettingWithCopyWarning: \n",
      "A value is trying to be set on a copy of a slice from a DataFrame\n",
      "\n",
      "See the caveats in the documentation: https://pandas.pydata.org/pandas-docs/stable/user_guide/indexing.html#returning-a-view-versus-a-copy\n",
      "  clean_df['PUFC17_NATEM'].replace(r'^\\s*$', np.nan, regex=True, inplace=True)\n"
     ]
    },
    {
     "name": "stdout",
     "output_type": "stream",
     "text": [
      "PUFC17_NATEM\n",
      "0    104805\n",
      "1     53900\n",
      "2     14929\n",
      "3      2540\n",
      "Name: count, dtype: int64\n"
     ]
    }
   ],
   "source": [
    "# Strip spaces from PUFC12_JOB and PUFC17_NATEM\n",
    "clean_df['PUFC12_JOB'] = clean_df['PUFC12_JOB'].astype(str).str.strip()\n",
    "clean_df['PUFC17_NATEM'] = clean_df['PUFC17_NATEM'].astype(str).str.strip()\n",
    "\n",
    "# Convert empty strings to NaN\n",
    "clean_df['PUFC17_NATEM'].replace(r'^\\s*$', np.nan, regex=True, inplace=True)\n",
    "\n",
    "# CASE 1: If PUFC12_JOB = \"2\" (NO), PUFC17_NATEM should be skipped → Set to 0\n",
    "clean_df.loc[clean_df['PUFC12_JOB'] == '2', 'PUFC17_NATEM'] = 0  \n",
    "\n",
    "# CASE 2: If PUFC12_JOB = \"1\" (YES) but PUFC17_NATEM is empty → Replace with mode value\n",
    "mode_value = clean_df.loc[clean_df['PUFC12_JOB'] == '1', 'PUFC17_NATEM'].mode()[0]\n",
    "clean_df.loc[(clean_df['PUFC12_JOB'] == '1') & (clean_df['PUFC17_NATEM'].isna()), 'PUFC17_NATEM'] = mode_value  \n",
    "\n",
    "# Print value counts\n",
    "print(clean_df['PUFC17_NATEM'].value_counts())\n"
   ]
  },
  {
   "cell_type": "markdown",
   "metadata": {},
   "source": [
    "If `PUFC12_JOB` = 2 (NO) the respondent should have skipped `PUFC20_PWMORE` which we will set a value of 0 to indicate unapplicability for the repondent.\n",
    "\n",
    "If `PUFC12_JOB` = 1 (YES) and `PUFC20_PWMORE` still has an empty input then it is considered as a missing data where the mode is assigned."
   ]
  },
  {
   "cell_type": "code",
   "execution_count": 10,
   "metadata": {},
   "outputs": [
    {
     "name": "stderr",
     "output_type": "stream",
     "text": [
      "C:\\Users\\Matthew Sanchez\\AppData\\Local\\Temp\\ipykernel_34248\\1043400894.py:2: SettingWithCopyWarning: \n",
      "A value is trying to be set on a copy of a slice from a DataFrame.\n",
      "Try using .loc[row_indexer,col_indexer] = value instead\n",
      "\n",
      "See the caveats in the documentation: https://pandas.pydata.org/pandas-docs/stable/user_guide/indexing.html#returning-a-view-versus-a-copy\n",
      "  clean_df['PUFC12_JOB'] = clean_df['PUFC12_JOB'].astype(str).str.strip()\n",
      "C:\\Users\\Matthew Sanchez\\AppData\\Local\\Temp\\ipykernel_34248\\1043400894.py:3: SettingWithCopyWarning: \n",
      "A value is trying to be set on a copy of a slice from a DataFrame.\n",
      "Try using .loc[row_indexer,col_indexer] = value instead\n",
      "\n",
      "See the caveats in the documentation: https://pandas.pydata.org/pandas-docs/stable/user_guide/indexing.html#returning-a-view-versus-a-copy\n",
      "  clean_df['PUFC20_PWMORE'] = clean_df['PUFC20_PWMORE'].astype(str).str.strip()\n",
      "C:\\Users\\Matthew Sanchez\\AppData\\Local\\Temp\\ipykernel_34248\\1043400894.py:6: FutureWarning: A value is trying to be set on a copy of a DataFrame or Series through chained assignment using an inplace method.\n",
      "The behavior will change in pandas 3.0. This inplace method will never work because the intermediate object on which we are setting values always behaves as a copy.\n",
      "\n",
      "For example, when doing 'df[col].method(value, inplace=True)', try using 'df.method({col: value}, inplace=True)' or df[col] = df[col].method(value) instead, to perform the operation inplace on the original object.\n",
      "\n",
      "\n",
      "  clean_df['PUFC20_PWMORE'].replace(r'^\\s*$', np.nan, regex=True, inplace=True)\n"
     ]
    },
    {
     "name": "stdout",
     "output_type": "stream",
     "text": [
      "PUFC20_PWMORE\n",
      "0    104805\n",
      "2     57432\n",
      "1     13937\n",
      "Name: count, dtype: int64\n"
     ]
    },
    {
     "name": "stderr",
     "output_type": "stream",
     "text": [
      "C:\\Users\\Matthew Sanchez\\AppData\\Local\\Temp\\ipykernel_34248\\1043400894.py:6: SettingWithCopyWarning: \n",
      "A value is trying to be set on a copy of a slice from a DataFrame\n",
      "\n",
      "See the caveats in the documentation: https://pandas.pydata.org/pandas-docs/stable/user_guide/indexing.html#returning-a-view-versus-a-copy\n",
      "  clean_df['PUFC20_PWMORE'].replace(r'^\\s*$', np.nan, regex=True, inplace=True)\n"
     ]
    }
   ],
   "source": [
    "# Strip spaces from PUFC12_JOB and PUFC20_PWMORE\n",
    "clean_df['PUFC12_JOB'] = clean_df['PUFC12_JOB'].astype(str).str.strip()\n",
    "clean_df['PUFC20_PWMORE'] = clean_df['PUFC20_PWMORE'].astype(str).str.strip()\n",
    "\n",
    "# Convert empty strings to NaN for proper handling of missing values\n",
    "clean_df['PUFC20_PWMORE'].replace(r'^\\s*$', np.nan, regex=True, inplace=True)\n",
    "\n",
    "# CASE 1: If PUFC12_JOB = \"2\" (NO), PUFC20_PWMORE should be skipped → Set to 0\n",
    "clean_df.loc[clean_df['PUFC12_JOB'] == '2', 'PUFC20_PWMORE'] = 0  \n",
    "\n",
    "# CASE 2: If PUFC12_JOB = \"1\" (YES) but PUFC20_PWMORE is empty → Replace with mode value\n",
    "mode_value = clean_df.loc[clean_df['PUFC12_JOB'] == '1', 'PUFC20_PWMORE'].mode()[0]\n",
    "clean_df.loc[(clean_df['PUFC12_JOB'] == '1') & (clean_df['PUFC20_PWMORE'].isna()), 'PUFC20_PWMORE'] = mode_value  \n",
    "\n",
    "# Print final value counts\n",
    "print(clean_df['PUFC20_PWMORE'].value_counts())"
   ]
  },
  {
   "cell_type": "markdown",
   "metadata": {},
   "source": [
    "If `PUFC12_JOB` = 2 (NO) the respondent should have skipped `PUFC21_PLADDW` which we will set a value of 0 to indicate unapplicability for the repondent.\n",
    "\n",
    "If `PUFC12_JOB` = 1 (YES) and `PUFC21_PLADDW` still has an empty input then it is considered as a missing data where the mode is assigned."
   ]
  },
  {
   "cell_type": "code",
   "execution_count": 11,
   "metadata": {},
   "outputs": [
    {
     "name": "stderr",
     "output_type": "stream",
     "text": [
      "C:\\Users\\Matthew Sanchez\\AppData\\Local\\Temp\\ipykernel_34248\\1561497125.py:2: SettingWithCopyWarning: \n",
      "A value is trying to be set on a copy of a slice from a DataFrame.\n",
      "Try using .loc[row_indexer,col_indexer] = value instead\n",
      "\n",
      "See the caveats in the documentation: https://pandas.pydata.org/pandas-docs/stable/user_guide/indexing.html#returning-a-view-versus-a-copy\n",
      "  clean_df['PUFC12_JOB'] = clean_df['PUFC12_JOB'].astype(str).str.strip()\n",
      "C:\\Users\\Matthew Sanchez\\AppData\\Local\\Temp\\ipykernel_34248\\1561497125.py:3: SettingWithCopyWarning: \n",
      "A value is trying to be set on a copy of a slice from a DataFrame.\n",
      "Try using .loc[row_indexer,col_indexer] = value instead\n",
      "\n",
      "See the caveats in the documentation: https://pandas.pydata.org/pandas-docs/stable/user_guide/indexing.html#returning-a-view-versus-a-copy\n",
      "  clean_df['PUFC21_PLADDW'] = clean_df['PUFC21_PLADDW'].astype(str).str.strip()\n",
      "C:\\Users\\Matthew Sanchez\\AppData\\Local\\Temp\\ipykernel_34248\\1561497125.py:6: FutureWarning: A value is trying to be set on a copy of a DataFrame or Series through chained assignment using an inplace method.\n",
      "The behavior will change in pandas 3.0. This inplace method will never work because the intermediate object on which we are setting values always behaves as a copy.\n",
      "\n",
      "For example, when doing 'df[col].method(value, inplace=True)', try using 'df.method({col: value}, inplace=True)' or df[col] = df[col].method(value) instead, to perform the operation inplace on the original object.\n",
      "\n",
      "\n",
      "  clean_df['PUFC21_PLADDW'].replace(r'^\\s*$', np.nan, regex=True, inplace=True)\n",
      "C:\\Users\\Matthew Sanchez\\AppData\\Local\\Temp\\ipykernel_34248\\1561497125.py:6: SettingWithCopyWarning: \n",
      "A value is trying to be set on a copy of a slice from a DataFrame\n",
      "\n",
      "See the caveats in the documentation: https://pandas.pydata.org/pandas-docs/stable/user_guide/indexing.html#returning-a-view-versus-a-copy\n",
      "  clean_df['PUFC21_PLADDW'].replace(r'^\\s*$', np.nan, regex=True, inplace=True)\n"
     ]
    },
    {
     "name": "stdout",
     "output_type": "stream",
     "text": [
      "PUFC21_PLADDW\n",
      "0    104805\n",
      "2     63895\n",
      "1      7474\n",
      "Name: count, dtype: int64\n"
     ]
    }
   ],
   "source": [
    "# Strip spaces from PUFC12_JOB and PUFC21_PLADDW\n",
    "clean_df['PUFC12_JOB'] = clean_df['PUFC12_JOB'].astype(str).str.strip()\n",
    "clean_df['PUFC21_PLADDW'] = clean_df['PUFC21_PLADDW'].astype(str).str.strip()\n",
    "\n",
    "# Convert empty strings to NaN for proper handling of missing values\n",
    "clean_df['PUFC21_PLADDW'].replace(r'^\\s*$', np.nan, regex=True, inplace=True)\n",
    "\n",
    "# CASE 1: If PUFC12_JOB = \"2\" (NO), PUFC21_PLADDW should be skipped → Set to 0\n",
    "clean_df.loc[clean_df['PUFC12_JOB'] == '2', 'PUFC21_PLADDW'] = 0  \n",
    "\n",
    "# CASE 2: If PUFC12_JOB = \"1\" (YES) but PUFC21_PLADDW is empty → Replace with mode value\n",
    "mode_value = clean_df.loc[clean_df['PUFC12_JOB'] == '1', 'PUFC21_PLADDW'].mode()[0]\n",
    "clean_df.loc[(clean_df['PUFC12_JOB'] == '1') & (clean_df['PUFC21_PLADDW'].isna()), 'PUFC21_PLADDW'] = mode_value  \n",
    "\n",
    "# Print final value counts\n",
    "print(clean_df['PUFC21_PLADDW'].value_counts())"
   ]
  },
  {
   "cell_type": "markdown",
   "metadata": {},
   "source": [
    "If `PUFC12_JOB` = 2 (NO) the respondent should have skipped `PUFC22_PFWRK` which we will set a value of 0 to indicate unapplicability for the repondent.\n",
    "\n",
    "If `PUFC12_JOB` = 1 (YES) and `PUFC22_PFWRK` still has an empty input then it is considered as a missing data where the mode is assigned."
   ]
  },
  {
   "cell_type": "code",
   "execution_count": 12,
   "metadata": {},
   "outputs": [
    {
     "name": "stderr",
     "output_type": "stream",
     "text": [
      "C:\\Users\\Matthew Sanchez\\AppData\\Local\\Temp\\ipykernel_34248\\1075057944.py:2: SettingWithCopyWarning: \n",
      "A value is trying to be set on a copy of a slice from a DataFrame.\n",
      "Try using .loc[row_indexer,col_indexer] = value instead\n",
      "\n",
      "See the caveats in the documentation: https://pandas.pydata.org/pandas-docs/stable/user_guide/indexing.html#returning-a-view-versus-a-copy\n",
      "  clean_df['PUFC12_JOB'] = clean_df['PUFC12_JOB'].astype(str).str.strip()\n",
      "C:\\Users\\Matthew Sanchez\\AppData\\Local\\Temp\\ipykernel_34248\\1075057944.py:3: SettingWithCopyWarning: \n",
      "A value is trying to be set on a copy of a slice from a DataFrame.\n",
      "Try using .loc[row_indexer,col_indexer] = value instead\n",
      "\n",
      "See the caveats in the documentation: https://pandas.pydata.org/pandas-docs/stable/user_guide/indexing.html#returning-a-view-versus-a-copy\n",
      "  clean_df['PUFC22_PFWRK'] = clean_df['PUFC22_PFWRK'].astype(str).str.strip()\n",
      "C:\\Users\\Matthew Sanchez\\AppData\\Local\\Temp\\ipykernel_34248\\1075057944.py:6: FutureWarning: A value is trying to be set on a copy of a DataFrame or Series through chained assignment using an inplace method.\n",
      "The behavior will change in pandas 3.0. This inplace method will never work because the intermediate object on which we are setting values always behaves as a copy.\n",
      "\n",
      "For example, when doing 'df[col].method(value, inplace=True)', try using 'df.method({col: value}, inplace=True)' or df[col] = df[col].method(value) instead, to perform the operation inplace on the original object.\n",
      "\n",
      "\n",
      "  clean_df['PUFC22_PFWRK'].replace(r'^\\s*$', np.nan, regex=True, inplace=True)\n",
      "C:\\Users\\Matthew Sanchez\\AppData\\Local\\Temp\\ipykernel_34248\\1075057944.py:6: SettingWithCopyWarning: \n",
      "A value is trying to be set on a copy of a slice from a DataFrame\n",
      "\n",
      "See the caveats in the documentation: https://pandas.pydata.org/pandas-docs/stable/user_guide/indexing.html#returning-a-view-versus-a-copy\n",
      "  clean_df['PUFC22_PFWRK'].replace(r'^\\s*$', np.nan, regex=True, inplace=True)\n"
     ]
    },
    {
     "name": "stdout",
     "output_type": "stream",
     "text": [
      "PUFC22_PFWRK\n",
      "0    104805\n",
      "2     69870\n",
      "1      1499\n",
      "Name: count, dtype: int64\n"
     ]
    }
   ],
   "source": [
    "# Strip spaces from PUFC12_JOB and PUFC22_PFWRK\n",
    "clean_df['PUFC12_JOB'] = clean_df['PUFC12_JOB'].astype(str).str.strip()\n",
    "clean_df['PUFC22_PFWRK'] = clean_df['PUFC22_PFWRK'].astype(str).str.strip()\n",
    "\n",
    "# Convert empty strings to NaN for proper handling of missing values\n",
    "clean_df['PUFC22_PFWRK'].replace(r'^\\s*$', np.nan, regex=True, inplace=True)\n",
    "\n",
    "# CASE 1: If PUFC12_JOB = \"2\" (NO), PUFC22_PFWRK should be skipped → Set to 0\n",
    "clean_df.loc[clean_df['PUFC12_JOB'] == '2', 'PUFC22_PFWRK'] = 0  \n",
    "\n",
    "# CASE 2: If PUFC12_JOB = \"1\" (YES) but PUFC22_PFWRK is empty → Replace with mode value\n",
    "mode_value = clean_df.loc[clean_df['PUFC12_JOB'] == '1', 'PUFC22_PFWRK'].mode()[0]\n",
    "clean_df.loc[(clean_df['PUFC12_JOB'] == '1') & (clean_df['PUFC22_PFWRK'].isna()), 'PUFC22_PFWRK'] = mode_value  \n",
    "\n",
    "# Print final value counts\n",
    "print(clean_df['PUFC22_PFWRK'].value_counts())"
   ]
  },
  {
   "cell_type": "markdown",
   "metadata": {},
   "source": [
    "If `PUFC12_JOB` = 2 (NO) the respondent should have skipped `PUFC23_PCLASS` which we will set a value of 0 to indicate unapplicability for the repondent.\n",
    "\n",
    "If `PUFC12_JOB` = 1 (YES) and `PUFC23_PCLASS` still has an empty input then it is considered as a missing data where the mode is assigned."
   ]
  },
  {
   "cell_type": "code",
   "execution_count": 13,
   "metadata": {},
   "outputs": [
    {
     "name": "stderr",
     "output_type": "stream",
     "text": [
      "C:\\Users\\Matthew Sanchez\\AppData\\Local\\Temp\\ipykernel_34248\\3190684297.py:2: SettingWithCopyWarning: \n",
      "A value is trying to be set on a copy of a slice from a DataFrame.\n",
      "Try using .loc[row_indexer,col_indexer] = value instead\n",
      "\n",
      "See the caveats in the documentation: https://pandas.pydata.org/pandas-docs/stable/user_guide/indexing.html#returning-a-view-versus-a-copy\n",
      "  clean_df['PUFC12_JOB'] = clean_df['PUFC12_JOB'].astype(str).str.strip()\n",
      "C:\\Users\\Matthew Sanchez\\AppData\\Local\\Temp\\ipykernel_34248\\3190684297.py:3: SettingWithCopyWarning: \n",
      "A value is trying to be set on a copy of a slice from a DataFrame.\n",
      "Try using .loc[row_indexer,col_indexer] = value instead\n",
      "\n",
      "See the caveats in the documentation: https://pandas.pydata.org/pandas-docs/stable/user_guide/indexing.html#returning-a-view-versus-a-copy\n",
      "  clean_df['PUFC23_PCLASS'] = clean_df['PUFC23_PCLASS'].astype(str).str.strip()\n",
      "C:\\Users\\Matthew Sanchez\\AppData\\Local\\Temp\\ipykernel_34248\\3190684297.py:6: FutureWarning: A value is trying to be set on a copy of a DataFrame or Series through chained assignment using an inplace method.\n",
      "The behavior will change in pandas 3.0. This inplace method will never work because the intermediate object on which we are setting values always behaves as a copy.\n",
      "\n",
      "For example, when doing 'df[col].method(value, inplace=True)', try using 'df.method({col: value}, inplace=True)' or df[col] = df[col].method(value) instead, to perform the operation inplace on the original object.\n",
      "\n",
      "\n",
      "  clean_df['PUFC23_PCLASS'].replace(r'^\\s*$', np.nan, regex=True, inplace=True)\n"
     ]
    },
    {
     "name": "stdout",
     "output_type": "stream",
     "text": [
      "PUFC23_PCLASS\n",
      "0    104805\n",
      "1     32063\n",
      "3     20788\n",
      "2      6327\n",
      "6      6324\n",
      "0      3323\n",
      "4      2328\n",
      "5       216\n",
      "Name: count, dtype: int64\n"
     ]
    },
    {
     "name": "stderr",
     "output_type": "stream",
     "text": [
      "C:\\Users\\Matthew Sanchez\\AppData\\Local\\Temp\\ipykernel_34248\\3190684297.py:6: SettingWithCopyWarning: \n",
      "A value is trying to be set on a copy of a slice from a DataFrame\n",
      "\n",
      "See the caveats in the documentation: https://pandas.pydata.org/pandas-docs/stable/user_guide/indexing.html#returning-a-view-versus-a-copy\n",
      "  clean_df['PUFC23_PCLASS'].replace(r'^\\s*$', np.nan, regex=True, inplace=True)\n"
     ]
    }
   ],
   "source": [
    "# Strip spaces from PUFC12_JOB and PUFC23_PCLASS\n",
    "clean_df['PUFC12_JOB'] = clean_df['PUFC12_JOB'].astype(str).str.strip()\n",
    "clean_df['PUFC23_PCLASS'] = clean_df['PUFC23_PCLASS'].astype(str).str.strip()\n",
    "\n",
    "# Convert empty strings to NaN for proper handling of missing values\n",
    "clean_df['PUFC23_PCLASS'].replace(r'^\\s*$', np.nan, regex=True, inplace=True)\n",
    "\n",
    "# CASE 1: If PUFC12_JOB = \"2\" (NO), PUFC23_PCLASS should be skipped → Set to 0\n",
    "clean_df.loc[clean_df['PUFC12_JOB'] == '2', 'PUFC23_PCLASS'] = 0  \n",
    "\n",
    "# CASE 2: If PUFC12_JOB = \"1\" (YES) but PUFC23_PCLASS is empty → Replace with mode value\n",
    "mode_value = clean_df.loc[clean_df['PUFC12_JOB'] == '1', 'PUFC23_PCLASS'].mode()[0]\n",
    "clean_df.loc[(clean_df['PUFC12_JOB'] == '1') & (clean_df['PUFC23_PCLASS'].isna()), 'PUFC23_PCLASS'] = mode_value  \n",
    "\n",
    "# Print final value counts\n",
    "print(clean_df['PUFC23_PCLASS'].value_counts())"
   ]
  },
  {
   "cell_type": "markdown",
   "metadata": {},
   "source": [
    "If `PUFC12_JOB` = 2 (NO) the respondent should have skipped `PUFC24_PBASIS` which we will set a value of 0 to indicate unapplicability for the repondent.\n",
    "\n",
    "If `PUFC12_JOB` = 1 (YES) and `PUFC24_PBASIS` still has an empty input then it is considered as a missing data where the mode is assigned."
   ]
  },
  {
   "cell_type": "code",
   "execution_count": 14,
   "metadata": {},
   "outputs": [
    {
     "name": "stderr",
     "output_type": "stream",
     "text": [
      "C:\\Users\\Matthew Sanchez\\AppData\\Local\\Temp\\ipykernel_34248\\651523099.py:2: SettingWithCopyWarning: \n",
      "A value is trying to be set on a copy of a slice from a DataFrame.\n",
      "Try using .loc[row_indexer,col_indexer] = value instead\n",
      "\n",
      "See the caveats in the documentation: https://pandas.pydata.org/pandas-docs/stable/user_guide/indexing.html#returning-a-view-versus-a-copy\n",
      "  clean_df['PUFC12_JOB'] = clean_df['PUFC12_JOB'].astype(str).str.strip()\n",
      "C:\\Users\\Matthew Sanchez\\AppData\\Local\\Temp\\ipykernel_34248\\651523099.py:3: SettingWithCopyWarning: \n",
      "A value is trying to be set on a copy of a slice from a DataFrame.\n",
      "Try using .loc[row_indexer,col_indexer] = value instead\n",
      "\n",
      "See the caveats in the documentation: https://pandas.pydata.org/pandas-docs/stable/user_guide/indexing.html#returning-a-view-versus-a-copy\n",
      "  clean_df['PUFC24_PBASIS'] = clean_df['PUFC24_PBASIS'].astype(str).str.strip()\n",
      "C:\\Users\\Matthew Sanchez\\AppData\\Local\\Temp\\ipykernel_34248\\651523099.py:6: FutureWarning: A value is trying to be set on a copy of a DataFrame or Series through chained assignment using an inplace method.\n",
      "The behavior will change in pandas 3.0. This inplace method will never work because the intermediate object on which we are setting values always behaves as a copy.\n",
      "\n",
      "For example, when doing 'df[col].method(value, inplace=True)', try using 'df.method({col: value}, inplace=True)' or df[col] = df[col].method(value) instead, to perform the operation inplace on the original object.\n",
      "\n",
      "\n",
      "  clean_df['PUFC24_PBASIS'].replace(r'^\\s*$', np.nan, regex=True, inplace=True)\n",
      "C:\\Users\\Matthew Sanchez\\AppData\\Local\\Temp\\ipykernel_34248\\651523099.py:6: SettingWithCopyWarning: \n",
      "A value is trying to be set on a copy of a slice from a DataFrame\n",
      "\n",
      "See the caveats in the documentation: https://pandas.pydata.org/pandas-docs/stable/user_guide/indexing.html#returning-a-view-versus-a-copy\n",
      "  clean_df['PUFC24_PBASIS'].replace(r'^\\s*$', np.nan, regex=True, inplace=True)\n"
     ]
    },
    {
     "name": "stdout",
     "output_type": "stream",
     "text": [
      "PUFC24_PBASIS\n",
      "0    104805\n",
      "4     18027\n",
      "3     16419\n",
      "7      5327\n",
      "1       837\n",
      "5       722\n",
      "6       499\n",
      "2       261\n",
      "0       257\n",
      "Name: count, dtype: int64\n"
     ]
    }
   ],
   "source": [
    "# Strip spaces from PUFC12_JOB and PUFC24_PBASIS\n",
    "clean_df['PUFC12_JOB'] = clean_df['PUFC12_JOB'].astype(str).str.strip()\n",
    "clean_df['PUFC24_PBASIS'] = clean_df['PUFC24_PBASIS'].astype(str).str.strip()\n",
    "\n",
    "# Convert empty strings to NaN for proper handling of missing values\n",
    "clean_df['PUFC24_PBASIS'].replace(r'^\\s*$', np.nan, regex=True, inplace=True)\n",
    "\n",
    "# CASE 1: If PUFC12_JOB = \"2\" (NO), PUFC24_PBASIS should be skipped → Set to 0\n",
    "clean_df.loc[clean_df['PUFC12_JOB'] == '2', 'PUFC24_PBASIS'] = 0  \n",
    "\n",
    "# CASE 2: If PUFC12_JOB = \"1\" (YES) but PUFC24_PBASIS is empty → Replace with mode value\n",
    "mode_value = clean_df.loc[clean_df['PUFC12_JOB'] == '1', 'PUFC24_PBASIS'].mode()[0]\n",
    "clean_df.loc[(clean_df['PUFC12_JOB'] == '1') & (clean_df['PUFC24_PBASIS'].isna()), 'PUFC24_PBASIS'] = mode_value  \n",
    "\n",
    "# Print final value counts\n",
    "print(clean_df['PUFC24_PBASIS'].value_counts())"
   ]
  },
  {
   "cell_type": "markdown",
   "metadata": {},
   "source": [
    "If `PUFC12_JOB` = 2 (NO) the respondent should have skipped `PUFC26_OJOB` which we will set a value of 0 to indicate unapplicability for the repondent.\n",
    "\n",
    "If `PUFC12_JOB` = 1 (YES) and `PUFC26_OJOB` still has an empty input then it is considered as a missing data where the mode is assigned."
   ]
  },
  {
   "cell_type": "code",
   "execution_count": 15,
   "metadata": {},
   "outputs": [
    {
     "name": "stderr",
     "output_type": "stream",
     "text": [
      "C:\\Users\\Matthew Sanchez\\AppData\\Local\\Temp\\ipykernel_34248\\3961227007.py:2: SettingWithCopyWarning: \n",
      "A value is trying to be set on a copy of a slice from a DataFrame.\n",
      "Try using .loc[row_indexer,col_indexer] = value instead\n",
      "\n",
      "See the caveats in the documentation: https://pandas.pydata.org/pandas-docs/stable/user_guide/indexing.html#returning-a-view-versus-a-copy\n",
      "  clean_df['PUFC12_JOB'] = clean_df['PUFC12_JOB'].astype(str).str.strip()\n",
      "C:\\Users\\Matthew Sanchez\\AppData\\Local\\Temp\\ipykernel_34248\\3961227007.py:3: SettingWithCopyWarning: \n",
      "A value is trying to be set on a copy of a slice from a DataFrame.\n",
      "Try using .loc[row_indexer,col_indexer] = value instead\n",
      "\n",
      "See the caveats in the documentation: https://pandas.pydata.org/pandas-docs/stable/user_guide/indexing.html#returning-a-view-versus-a-copy\n",
      "  clean_df['PUFC26_OJOB'] = clean_df['PUFC26_OJOB'].astype(str).str.strip()\n",
      "C:\\Users\\Matthew Sanchez\\AppData\\Local\\Temp\\ipykernel_34248\\3961227007.py:6: FutureWarning: A value is trying to be set on a copy of a DataFrame or Series through chained assignment using an inplace method.\n",
      "The behavior will change in pandas 3.0. This inplace method will never work because the intermediate object on which we are setting values always behaves as a copy.\n",
      "\n",
      "For example, when doing 'df[col].method(value, inplace=True)', try using 'df.method({col: value}, inplace=True)' or df[col] = df[col].method(value) instead, to perform the operation inplace on the original object.\n",
      "\n",
      "\n",
      "  clean_df['PUFC26_OJOB'].replace(r'^\\s*$', np.nan, regex=True, inplace=True)\n",
      "C:\\Users\\Matthew Sanchez\\AppData\\Local\\Temp\\ipykernel_34248\\3961227007.py:6: SettingWithCopyWarning: \n",
      "A value is trying to be set on a copy of a slice from a DataFrame\n",
      "\n",
      "See the caveats in the documentation: https://pandas.pydata.org/pandas-docs/stable/user_guide/indexing.html#returning-a-view-versus-a-copy\n",
      "  clean_df['PUFC26_OJOB'].replace(r'^\\s*$', np.nan, regex=True, inplace=True)\n"
     ]
    },
    {
     "name": "stdout",
     "output_type": "stream",
     "text": [
      "PUFC26_OJOB\n",
      "0    104805\n",
      "2     65431\n",
      "1      5938\n",
      "Name: count, dtype: int64\n"
     ]
    }
   ],
   "source": [
    "# Strip spaces from PUFC12_JOB and PUFC26_OJOB\n",
    "clean_df['PUFC12_JOB'] = clean_df['PUFC12_JOB'].astype(str).str.strip()\n",
    "clean_df['PUFC26_OJOB'] = clean_df['PUFC26_OJOB'].astype(str).str.strip()\n",
    "\n",
    "# Convert empty strings to NaN for proper handling of missing values\n",
    "clean_df['PUFC26_OJOB'].replace(r'^\\s*$', np.nan, regex=True, inplace=True)\n",
    "\n",
    "# CASE 1: If PUFC12_JOB = \"2\" (NO), PUFC26_OJOB should be skipped → Set to 0\n",
    "clean_df.loc[clean_df['PUFC12_JOB'] == '2', 'PUFC26_OJOB'] = 0  \n",
    "\n",
    "# CASE 2: If PUFC12_JOB = \"1\" (YES) but PUFC26_OJOB is empty → Replace with mode value\n",
    "mode_value = clean_df.loc[clean_df['PUFC12_JOB'] == '1', 'PUFC26_OJOB'].mode()[0]\n",
    "clean_df.loc[(clean_df['PUFC12_JOB'] == '1') & (clean_df['PUFC26_OJOB'].isna()), 'PUFC26_OJOB'] = mode_value  \n",
    "\n",
    "# Print final value counts\n",
    "print(clean_df['PUFC26_OJOB'].value_counts())\n"
   ]
  },
  {
   "cell_type": "markdown",
   "metadata": {},
   "source": [
    "If `PUFC12_JOB` = 2 (NO) the respondent should have skipped `PUFC27_NJOBS` which we will set a value of 0 to indicate unapplicability for the repondent.\n",
    "\n",
    "If `PUFC12_JOB` = 1 (YES) and `PUFC27_NJOBS` still has an empty input then it is considered as a missing data where the mode is assigned."
   ]
  },
  {
   "cell_type": "code",
   "execution_count": 16,
   "metadata": {},
   "outputs": [
    {
     "name": "stderr",
     "output_type": "stream",
     "text": [
      "C:\\Users\\Matthew Sanchez\\AppData\\Local\\Temp\\ipykernel_34248\\4067666370.py:2: SettingWithCopyWarning: \n",
      "A value is trying to be set on a copy of a slice from a DataFrame.\n",
      "Try using .loc[row_indexer,col_indexer] = value instead\n",
      "\n",
      "See the caveats in the documentation: https://pandas.pydata.org/pandas-docs/stable/user_guide/indexing.html#returning-a-view-versus-a-copy\n",
      "  clean_df['PUFC12_JOB'] = clean_df['PUFC12_JOB'].astype(str).str.strip()\n",
      "C:\\Users\\Matthew Sanchez\\AppData\\Local\\Temp\\ipykernel_34248\\4067666370.py:3: SettingWithCopyWarning: \n",
      "A value is trying to be set on a copy of a slice from a DataFrame.\n",
      "Try using .loc[row_indexer,col_indexer] = value instead\n",
      "\n",
      "See the caveats in the documentation: https://pandas.pydata.org/pandas-docs/stable/user_guide/indexing.html#returning-a-view-versus-a-copy\n",
      "  clean_df['PUFC27_NJOBS'] = clean_df['PUFC27_NJOBS'].astype(str).str.strip()\n",
      "C:\\Users\\Matthew Sanchez\\AppData\\Local\\Temp\\ipykernel_34248\\4067666370.py:6: FutureWarning: A value is trying to be set on a copy of a DataFrame or Series through chained assignment using an inplace method.\n",
      "The behavior will change in pandas 3.0. This inplace method will never work because the intermediate object on which we are setting values always behaves as a copy.\n",
      "\n",
      "For example, when doing 'df[col].method(value, inplace=True)', try using 'df.method({col: value}, inplace=True)' or df[col] = df[col].method(value) instead, to perform the operation inplace on the original object.\n",
      "\n",
      "\n",
      "  clean_df['PUFC27_NJOBS'].replace(r'^\\s*$', np.nan, regex=True, inplace=True)\n"
     ]
    },
    {
     "name": "stdout",
     "output_type": "stream",
     "text": [
      "PUFC27_NJOBS\n",
      "0    104805\n",
      "1      6483\n",
      "2       507\n",
      "3        23\n",
      "4         4\n",
      "5         2\n",
      "Name: count, dtype: int64\n"
     ]
    },
    {
     "name": "stderr",
     "output_type": "stream",
     "text": [
      "C:\\Users\\Matthew Sanchez\\AppData\\Local\\Temp\\ipykernel_34248\\4067666370.py:6: SettingWithCopyWarning: \n",
      "A value is trying to be set on a copy of a slice from a DataFrame\n",
      "\n",
      "See the caveats in the documentation: https://pandas.pydata.org/pandas-docs/stable/user_guide/indexing.html#returning-a-view-versus-a-copy\n",
      "  clean_df['PUFC27_NJOBS'].replace(r'^\\s*$', np.nan, regex=True, inplace=True)\n"
     ]
    }
   ],
   "source": [
    "# Strip spaces from PUFC12_JOB and PUFC27_NJOBS\n",
    "clean_df['PUFC12_JOB'] = clean_df['PUFC12_JOB'].astype(str).str.strip()\n",
    "clean_df['PUFC27_NJOBS'] = clean_df['PUFC27_NJOBS'].astype(str).str.strip()\n",
    "\n",
    "# Convert empty strings to NaN for proper handling of missing values\n",
    "clean_df['PUFC27_NJOBS'].replace(r'^\\s*$', np.nan, regex=True, inplace=True)\n",
    "\n",
    "# CASE 1: If PUFC12_JOB = \"2\" (NO), PUFC27_NJOBS should be skipped → Set to 0\n",
    "clean_df.loc[clean_df['PUFC12_JOB'] == '2', 'PUFC27_NJOBS'] = 0  \n",
    "\n",
    "# CASE 2: If PUFC12_JOB = \"1\" (YES) but PUFC27_NJOBS is empty → Replace with mode value\n",
    "mode_value = clean_df.loc[clean_df['PUFC12_JOB'] == '1', 'PUFC27_NJOBS'].mode()[0]\n",
    "clean_df.loc[(clean_df['PUFC12_JOB'] == '1') & (clean_df['PUFC27_NJOBS'].isna()), 'PUFC27_NJOBS'] = mode_value  \n",
    "\n",
    "# Print final value counts\n",
    "print(clean_df['PUFC27_NJOBS'].value_counts())"
   ]
  },
  {
   "cell_type": "markdown",
   "metadata": {},
   "source": [
    "If `PUFC12_JOB` = 2 (NO) the respondent should have skipped `PUFC29_WWM48H` which we will set a value of 0 to indicate unapplicability for the repondent.\n",
    "\n",
    "If `PUFC12_JOB` = 1 (YES) and `PUFC29_WWM48H` still has an empty input then it is considered as a missing data where the mode is assigned."
   ]
  },
  {
   "cell_type": "code",
   "execution_count": 17,
   "metadata": {},
   "outputs": [
    {
     "name": "stderr",
     "output_type": "stream",
     "text": [
      "C:\\Users\\Matthew Sanchez\\AppData\\Local\\Temp\\ipykernel_34248\\3690770982.py:2: SettingWithCopyWarning: \n",
      "A value is trying to be set on a copy of a slice from a DataFrame.\n",
      "Try using .loc[row_indexer,col_indexer] = value instead\n",
      "\n",
      "See the caveats in the documentation: https://pandas.pydata.org/pandas-docs/stable/user_guide/indexing.html#returning-a-view-versus-a-copy\n",
      "  clean_df['PUFC12_JOB'] = clean_df['PUFC12_JOB'].astype(str).str.strip()\n",
      "C:\\Users\\Matthew Sanchez\\AppData\\Local\\Temp\\ipykernel_34248\\3690770982.py:3: SettingWithCopyWarning: \n",
      "A value is trying to be set on a copy of a slice from a DataFrame.\n",
      "Try using .loc[row_indexer,col_indexer] = value instead\n",
      "\n",
      "See the caveats in the documentation: https://pandas.pydata.org/pandas-docs/stable/user_guide/indexing.html#returning-a-view-versus-a-copy\n",
      "  clean_df['PUFC29_WWM48H'] = clean_df['PUFC29_WWM48H'].astype(str).str.strip()\n",
      "C:\\Users\\Matthew Sanchez\\AppData\\Local\\Temp\\ipykernel_34248\\3690770982.py:6: FutureWarning: A value is trying to be set on a copy of a DataFrame or Series through chained assignment using an inplace method.\n",
      "The behavior will change in pandas 3.0. This inplace method will never work because the intermediate object on which we are setting values always behaves as a copy.\n",
      "\n",
      "For example, when doing 'df[col].method(value, inplace=True)', try using 'df.method({col: value}, inplace=True)' or df[col] = df[col].method(value) instead, to perform the operation inplace on the original object.\n",
      "\n",
      "\n",
      "  clean_df['PUFC29_WWM48H'].replace(r'^\\s*$', np.nan, regex=True, inplace=True)\n"
     ]
    },
    {
     "name": "stdout",
     "output_type": "stream",
     "text": [
      "PUFC29_WWM48H\n",
      "0    105895\n",
      "1     10587\n",
      "2      6352\n",
      "4       164\n",
      "3       103\n",
      "5        27\n",
      "Name: count, dtype: int64\n"
     ]
    },
    {
     "name": "stderr",
     "output_type": "stream",
     "text": [
      "C:\\Users\\Matthew Sanchez\\AppData\\Local\\Temp\\ipykernel_34248\\3690770982.py:6: SettingWithCopyWarning: \n",
      "A value is trying to be set on a copy of a slice from a DataFrame\n",
      "\n",
      "See the caveats in the documentation: https://pandas.pydata.org/pandas-docs/stable/user_guide/indexing.html#returning-a-view-versus-a-copy\n",
      "  clean_df['PUFC29_WWM48H'].replace(r'^\\s*$', np.nan, regex=True, inplace=True)\n"
     ]
    }
   ],
   "source": [
    "# Strip spaces from PUFC12_JOB and PUFC29_WWM48H\n",
    "clean_df['PUFC12_JOB'] = clean_df['PUFC12_JOB'].astype(str).str.strip()\n",
    "clean_df['PUFC29_WWM48H'] = clean_df['PUFC29_WWM48H'].astype(str).str.strip()\n",
    "\n",
    "# Convert empty strings to NaN for proper handling of missing values\n",
    "clean_df['PUFC29_WWM48H'].replace(r'^\\s*$', np.nan, regex=True, inplace=True)\n",
    "\n",
    "# CASE 1: If PUFC12_JOB = \"2\" (NO), PUFC29_WWM48H should be skipped → Set to 0\n",
    "clean_df.loc[clean_df['PUFC12_JOB'] == '2', 'PUFC29_WWM48H'] = 0  \n",
    "\n",
    "# CASE 2: If PUFC12_JOB = \"1\" (YES) but PUFC29_WWM48H is empty → Replace with mode value\n",
    "mode_value = clean_df.loc[clean_df['PUFC12_JOB'] == '1', 'PUFC29_WWM48H'].mode()\n",
    "\n",
    "# Check if mode is available, otherwise set mode_value to 0\n",
    "if not mode_value.empty:\n",
    "    mode_value = mode_value[0]\n",
    "else:\n",
    "    mode_value = 0  # Default value if mode is not found\n",
    "\n",
    "clean_df.loc[(clean_df['PUFC12_JOB'] == '1') & (clean_df['PUFC29_WWM48H'].isna()), 'PUFC29_WWM48H'] = mode_value  \n",
    "\n",
    "# Print final value counts\n",
    "print(clean_df['PUFC29_WWM48H'].value_counts())\n"
   ]
  },
  {
   "cell_type": "markdown",
   "metadata": {},
   "source": [
    "Empty entries for `PUFC30_LOOKW` (looked for work) will be defaulted to a value of 2 since the questionnaire associated 2 with NO. We assume skip by omission which implies a NO."
   ]
  },
  {
   "cell_type": "code",
   "execution_count": 18,
   "metadata": {},
   "outputs": [
    {
     "name": "stderr",
     "output_type": "stream",
     "text": [
      "C:\\Users\\Matthew Sanchez\\AppData\\Local\\Temp\\ipykernel_34248\\2688454561.py:1: FutureWarning: A value is trying to be set on a copy of a DataFrame or Series through chained assignment using an inplace method.\n",
      "The behavior will change in pandas 3.0. This inplace method will never work because the intermediate object on which we are setting values always behaves as a copy.\n",
      "\n",
      "For example, when doing 'df[col].method(value, inplace=True)', try using 'df.method({col: value}, inplace=True)' or df[col] = df[col].method(value) instead, to perform the operation inplace on the original object.\n",
      "\n",
      "\n",
      "  clean_df['PUFC30_LOOKW'].replace(r'^\\s*$', 2, regex=True, inplace=True)\n",
      "C:\\Users\\Matthew Sanchez\\AppData\\Local\\Temp\\ipykernel_34248\\2688454561.py:1: SettingWithCopyWarning: \n",
      "A value is trying to be set on a copy of a slice from a DataFrame\n",
      "\n",
      "See the caveats in the documentation: https://pandas.pydata.org/pandas-docs/stable/user_guide/indexing.html#returning-a-view-versus-a-copy\n",
      "  clean_df['PUFC30_LOOKW'].replace(r'^\\s*$', 2, regex=True, inplace=True)\n",
      "C:\\Users\\Matthew Sanchez\\AppData\\Local\\Temp\\ipykernel_34248\\2688454561.py:2: SettingWithCopyWarning: \n",
      "A value is trying to be set on a copy of a slice from a DataFrame.\n",
      "Try using .loc[row_indexer,col_indexer] = value instead\n",
      "\n",
      "See the caveats in the documentation: https://pandas.pydata.org/pandas-docs/stable/user_guide/indexing.html#returning-a-view-versus-a-copy\n",
      "  clean_df['PUFC30_LOOKW'] = clean_df['PUFC30_LOOKW'].astype(str).str.strip().astype(int)\n"
     ]
    },
    {
     "name": "stdout",
     "output_type": "stream",
     "text": [
      "PUFC30_LOOKW\n",
      "2    175014\n",
      "1      2293\n",
      "Name: count, dtype: int64\n"
     ]
    }
   ],
   "source": [
    "clean_df['PUFC30_LOOKW'].replace(r'^\\s*$', 2, regex=True, inplace=True)\n",
    "clean_df['PUFC30_LOOKW'] = clean_df['PUFC30_LOOKW'].astype(str).str.strip().astype(int)\n",
    "print(clean_df['PUFC30_LOOKW'].value_counts())"
   ]
  },
  {
   "cell_type": "markdown",
   "metadata": {},
   "source": [
    "If `PUFC30_LOOKW` = 2 (NO) the respondent should have skipped `PUFC31_FLWRK` which we will set a value of 0 to indicate unapplicability for the repondent.\n",
    "\n",
    "If `PUFC30_LOOKW` = 1 (YES) and `PUFC31_FLWRK` still has an empty input then it is considered as a missing data where the mode is assigned."
   ]
  },
  {
   "cell_type": "code",
   "execution_count": 19,
   "metadata": {},
   "outputs": [
    {
     "name": "stderr",
     "output_type": "stream",
     "text": [
      "C:\\Users\\Matthew Sanchez\\AppData\\Local\\Temp\\ipykernel_34248\\3185094826.py:2: SettingWithCopyWarning: \n",
      "A value is trying to be set on a copy of a slice from a DataFrame.\n",
      "Try using .loc[row_indexer,col_indexer] = value instead\n",
      "\n",
      "See the caveats in the documentation: https://pandas.pydata.org/pandas-docs/stable/user_guide/indexing.html#returning-a-view-versus-a-copy\n",
      "  clean_df['PUFC30_LOOKW'] = clean_df['PUFC30_LOOKW'].astype(str).str.strip()\n",
      "C:\\Users\\Matthew Sanchez\\AppData\\Local\\Temp\\ipykernel_34248\\3185094826.py:3: SettingWithCopyWarning: \n",
      "A value is trying to be set on a copy of a slice from a DataFrame.\n",
      "Try using .loc[row_indexer,col_indexer] = value instead\n",
      "\n",
      "See the caveats in the documentation: https://pandas.pydata.org/pandas-docs/stable/user_guide/indexing.html#returning-a-view-versus-a-copy\n",
      "  clean_df['PUFC31_FLWRK'] = clean_df['PUFC31_FLWRK'].astype(str).str.strip()\n",
      "C:\\Users\\Matthew Sanchez\\AppData\\Local\\Temp\\ipykernel_34248\\3185094826.py:6: FutureWarning: A value is trying to be set on a copy of a DataFrame or Series through chained assignment using an inplace method.\n",
      "The behavior will change in pandas 3.0. This inplace method will never work because the intermediate object on which we are setting values always behaves as a copy.\n",
      "\n",
      "For example, when doing 'df[col].method(value, inplace=True)', try using 'df.method({col: value}, inplace=True)' or df[col] = df[col].method(value) instead, to perform the operation inplace on the original object.\n",
      "\n",
      "\n",
      "  clean_df['PUFC31_FLWRK'].replace(r'^\\s*$', np.nan, regex=True, inplace=True)\n",
      "C:\\Users\\Matthew Sanchez\\AppData\\Local\\Temp\\ipykernel_34248\\3185094826.py:6: SettingWithCopyWarning: \n",
      "A value is trying to be set on a copy of a slice from a DataFrame\n",
      "\n",
      "See the caveats in the documentation: https://pandas.pydata.org/pandas-docs/stable/user_guide/indexing.html#returning-a-view-versus-a-copy\n",
      "  clean_df['PUFC31_FLWRK'].replace(r'^\\s*$', np.nan, regex=True, inplace=True)\n"
     ]
    },
    {
     "name": "stdout",
     "output_type": "stream",
     "text": [
      "PUFC31_FLWRK\n",
      "0    175014\n",
      "2      1838\n",
      "1       455\n",
      "Name: count, dtype: int64\n"
     ]
    }
   ],
   "source": [
    "# Strip spaces from PUFC30_LOOKW and PUFC31_FLWRK\n",
    "clean_df['PUFC30_LOOKW'] = clean_df['PUFC30_LOOKW'].astype(str).str.strip()\n",
    "clean_df['PUFC31_FLWRK'] = clean_df['PUFC31_FLWRK'].astype(str).str.strip()\n",
    "\n",
    "# Convert empty strings to NaN for proper handling of missing values\n",
    "clean_df['PUFC31_FLWRK'].replace(r'^\\s*$', np.nan, regex=True, inplace=True)\n",
    "\n",
    "# CASE 1: If PUFC30_LOOKW = \"2\" (NO), PUFC31_FLWRK should be skipped → Set to 0\n",
    "clean_df.loc[clean_df['PUFC30_LOOKW'] == '2', 'PUFC31_FLWRK'] = 0  \n",
    "\n",
    "# CASE 2: If PUFC30_LOOKW = \"1\" (YES) but PUFC31_FLWRK is empty → Replace with mode value\n",
    "mode_value = clean_df.loc[clean_df['PUFC30_LOOKW'] == '1', 'PUFC31_FLWRK'].mode()[0]\n",
    "clean_df.loc[(clean_df['PUFC30_LOOKW'] == '1') & (clean_df['PUFC31_FLWRK'].isna()), 'PUFC31_FLWRK'] = mode_value  \n",
    "\n",
    "# Print final value counts for PUFC31_FLWRK\n",
    "print(clean_df['PUFC31_FLWRK'].value_counts())\n"
   ]
  },
  {
   "cell_type": "markdown",
   "metadata": {},
   "source": [
    "If `PUFC30_LOOKW` = 2 (NO) the respondent should have skipped `PUFC32_JOBSM` which we will set a value of 0 to indicate unapplicability for the repondent.\n",
    "\n",
    "If `PUFC30_LOOKW` = 1 (YES) and `PUFC32_JOBSM` still has an empty input then it is considered as a missing data where the mode is assigned."
   ]
  },
  {
   "cell_type": "code",
   "execution_count": 20,
   "metadata": {},
   "outputs": [
    {
     "name": "stderr",
     "output_type": "stream",
     "text": [
      "C:\\Users\\Matthew Sanchez\\AppData\\Local\\Temp\\ipykernel_34248\\2865691531.py:2: SettingWithCopyWarning: \n",
      "A value is trying to be set on a copy of a slice from a DataFrame.\n",
      "Try using .loc[row_indexer,col_indexer] = value instead\n",
      "\n",
      "See the caveats in the documentation: https://pandas.pydata.org/pandas-docs/stable/user_guide/indexing.html#returning-a-view-versus-a-copy\n",
      "  clean_df['PUFC30_LOOKW'] = clean_df['PUFC30_LOOKW'].astype(str).str.strip()\n",
      "C:\\Users\\Matthew Sanchez\\AppData\\Local\\Temp\\ipykernel_34248\\2865691531.py:3: SettingWithCopyWarning: \n",
      "A value is trying to be set on a copy of a slice from a DataFrame.\n",
      "Try using .loc[row_indexer,col_indexer] = value instead\n",
      "\n",
      "See the caveats in the documentation: https://pandas.pydata.org/pandas-docs/stable/user_guide/indexing.html#returning-a-view-versus-a-copy\n",
      "  clean_df['PUFC32_JOBSM'] = clean_df['PUFC32_JOBSM'].astype(str).str.strip()\n",
      "C:\\Users\\Matthew Sanchez\\AppData\\Local\\Temp\\ipykernel_34248\\2865691531.py:6: FutureWarning: A value is trying to be set on a copy of a DataFrame or Series through chained assignment using an inplace method.\n",
      "The behavior will change in pandas 3.0. This inplace method will never work because the intermediate object on which we are setting values always behaves as a copy.\n",
      "\n",
      "For example, when doing 'df[col].method(value, inplace=True)', try using 'df.method({col: value}, inplace=True)' or df[col] = df[col].method(value) instead, to perform the operation inplace on the original object.\n",
      "\n",
      "\n",
      "  clean_df['PUFC32_JOBSM'].replace(r'^\\s*$', np.nan, regex=True, inplace=True)\n",
      "C:\\Users\\Matthew Sanchez\\AppData\\Local\\Temp\\ipykernel_34248\\2865691531.py:6: SettingWithCopyWarning: \n",
      "A value is trying to be set on a copy of a slice from a DataFrame\n",
      "\n",
      "See the caveats in the documentation: https://pandas.pydata.org/pandas-docs/stable/user_guide/indexing.html#returning-a-view-versus-a-copy\n",
      "  clean_df['PUFC32_JOBSM'].replace(r'^\\s*$', np.nan, regex=True, inplace=True)\n"
     ]
    },
    {
     "name": "stdout",
     "output_type": "stream",
     "text": [
      "PUFC32_JOBSM\n",
      "0    175014\n",
      "4       761\n",
      "3       724\n",
      "2       448\n",
      "1       189\n",
      "5       114\n",
      "6        57\n",
      "Name: count, dtype: int64\n"
     ]
    }
   ],
   "source": [
    "# Strip spaces from PUFC30_LOOKW and PUFC32_JOBSM\n",
    "clean_df['PUFC30_LOOKW'] = clean_df['PUFC30_LOOKW'].astype(str).str.strip()\n",
    "clean_df['PUFC32_JOBSM'] = clean_df['PUFC32_JOBSM'].astype(str).str.strip()\n",
    "\n",
    "# Convert empty strings to NaN for proper handling of missing values\n",
    "clean_df['PUFC32_JOBSM'].replace(r'^\\s*$', np.nan, regex=True, inplace=True)\n",
    "\n",
    "# CASE 1: If PUFC30_LOOKW = \"2\" (NO), PUFC32_JOBSM should be skipped → Set to 0\n",
    "clean_df.loc[clean_df['PUFC30_LOOKW'] == '2', 'PUFC32_JOBSM'] = 0  \n",
    "\n",
    "# CASE 2: If PUFC30_LOOKW = \"1\" (YES) but PUFC32_JOBSM is empty → Replace with mode value\n",
    "mode_value = clean_df.loc[clean_df['PUFC30_LOOKW'] == '1', 'PUFC32_JOBSM'].mode()[0]\n",
    "clean_df.loc[(clean_df['PUFC30_LOOKW'] == '1') & (clean_df['PUFC32_JOBSM'].isna()), 'PUFC32_JOBSM'] = mode_value  \n",
    "\n",
    "# Print final value counts for PUFC32_JOBSM\n",
    "print(clean_df['PUFC32_JOBSM'].value_counts())\n"
   ]
  },
  {
   "cell_type": "markdown",
   "metadata": {},
   "source": [
    "Empty entries for `PUFC34_WYNOT` (reason for not looking for work) will be defaulted to a value of 7 since the questionnaire associated 7 with reasons of not looking for work being due to household/family duties. This also turned out to be the most frequent response."
   ]
  },
  {
   "cell_type": "code",
   "execution_count": 21,
   "metadata": {},
   "outputs": [
    {
     "name": "stderr",
     "output_type": "stream",
     "text": [
      "C:\\Users\\Matthew Sanchez\\AppData\\Local\\Temp\\ipykernel_34248\\1361467875.py:1: FutureWarning: A value is trying to be set on a copy of a DataFrame or Series through chained assignment using an inplace method.\n",
      "The behavior will change in pandas 3.0. This inplace method will never work because the intermediate object on which we are setting values always behaves as a copy.\n",
      "\n",
      "For example, when doing 'df[col].method(value, inplace=True)', try using 'df.method({col: value}, inplace=True)' or df[col] = df[col].method(value) instead, to perform the operation inplace on the original object.\n",
      "\n",
      "\n",
      "  clean_df['PUFC34_WYNOT'].replace(r'^\\s*$', 7, regex=True, inplace=True)\n",
      "C:\\Users\\Matthew Sanchez\\AppData\\Local\\Temp\\ipykernel_34248\\1361467875.py:1: SettingWithCopyWarning: \n",
      "A value is trying to be set on a copy of a slice from a DataFrame\n",
      "\n",
      "See the caveats in the documentation: https://pandas.pydata.org/pandas-docs/stable/user_guide/indexing.html#returning-a-view-versus-a-copy\n",
      "  clean_df['PUFC34_WYNOT'].replace(r'^\\s*$', 7, regex=True, inplace=True)\n"
     ]
    },
    {
     "name": "stdout",
     "output_type": "stream",
     "text": [
      "PUFC34_WYNOT\n",
      "7    152014\n",
      "8     12852\n",
      "6      7583\n",
      "9      1182\n",
      "3      1177\n",
      "1       849\n",
      "5       792\n",
      "2       744\n",
      "4       114\n",
      "Name: count, dtype: int64\n"
     ]
    },
    {
     "name": "stderr",
     "output_type": "stream",
     "text": [
      "C:\\Users\\Matthew Sanchez\\AppData\\Local\\Temp\\ipykernel_34248\\1361467875.py:2: SettingWithCopyWarning: \n",
      "A value is trying to be set on a copy of a slice from a DataFrame.\n",
      "Try using .loc[row_indexer,col_indexer] = value instead\n",
      "\n",
      "See the caveats in the documentation: https://pandas.pydata.org/pandas-docs/stable/user_guide/indexing.html#returning-a-view-versus-a-copy\n",
      "  clean_df['PUFC34_WYNOT'] = clean_df['PUFC34_WYNOT'].astype(str).str.strip().astype(int)\n"
     ]
    }
   ],
   "source": [
    "clean_df['PUFC34_WYNOT'].replace(r'^\\s*$', 7, regex=True, inplace=True)\n",
    "clean_df['PUFC34_WYNOT'] = clean_df['PUFC34_WYNOT'].astype(str).str.strip().astype(int)\n",
    "print(clean_df['PUFC34_WYNOT'].value_counts())"
   ]
  },
  {
   "cell_type": "markdown",
   "metadata": {},
   "source": [
    "If `PUFC34_WYNOT` is anything but 1 or 2 (both inputs prompted to go to COL. 35), `PUFC35_LTLOOKW` will be given the value 0 to indicate that the question from COL. 34 did not prompt the respondent to answer COL. 35 per the instructions indicated in the questionnaire."
   ]
  },
  {
   "cell_type": "code",
   "execution_count": 24,
   "metadata": {},
   "outputs": [
    {
     "name": "stdout",
     "output_type": "stream",
     "text": [
      "PUFC35_LTLOOKW\n",
      "0    175714\n",
      "1       662\n",
      "3       485\n",
      "2       446\n",
      "Name: count, dtype: int64\n"
     ]
    },
    {
     "name": "stderr",
     "output_type": "stream",
     "text": [
      "C:\\Users\\Matthew Sanchez\\AppData\\Local\\Temp\\ipykernel_34248\\537788487.py:1: FutureWarning: A value is trying to be set on a copy of a DataFrame or Series through chained assignment using an inplace method.\n",
      "The behavior will change in pandas 3.0. This inplace method will never work because the intermediate object on which we are setting values always behaves as a copy.\n",
      "\n",
      "For example, when doing 'df[col].method(value, inplace=True)', try using 'df.method({col: value}, inplace=True)' or df[col] = df[col].method(value) instead, to perform the operation inplace on the original object.\n",
      "\n",
      "\n",
      "  clean_df['PUFC35_LTLOOKW'].replace(r'^\\s*$', 0, regex=True, inplace=True)\n",
      "C:\\Users\\Matthew Sanchez\\AppData\\Local\\Temp\\ipykernel_34248\\537788487.py:1: SettingWithCopyWarning: \n",
      "A value is trying to be set on a copy of a slice from a DataFrame\n",
      "\n",
      "See the caveats in the documentation: https://pandas.pydata.org/pandas-docs/stable/user_guide/indexing.html#returning-a-view-versus-a-copy\n",
      "  clean_df['PUFC35_LTLOOKW'].replace(r'^\\s*$', 0, regex=True, inplace=True)\n",
      "C:\\Users\\Matthew Sanchez\\AppData\\Local\\Temp\\ipykernel_34248\\537788487.py:2: SettingWithCopyWarning: \n",
      "A value is trying to be set on a copy of a slice from a DataFrame.\n",
      "Try using .loc[row_indexer,col_indexer] = value instead\n",
      "\n",
      "See the caveats in the documentation: https://pandas.pydata.org/pandas-docs/stable/user_guide/indexing.html#returning-a-view-versus-a-copy\n",
      "  clean_df['PUFC35_LTLOOKW'] = clean_df['PUFC35_LTLOOKW'].astype(str).str.strip().astype(int)\n"
     ]
    }
   ],
   "source": [
    "clean_df['PUFC35_LTLOOKW'].replace(r'^\\s*$', 0, regex=True, inplace=True)\n",
    "clean_df['PUFC35_LTLOOKW'] = clean_df['PUFC35_LTLOOKW'].astype(str).str.strip().astype(int)\n",
    "print(clean_df['PUFC35_LTLOOKW'].value_counts())"
   ]
  },
  {
   "cell_type": "markdown",
   "metadata": {},
   "source": [
    "If `PUFC34_WYNOT` is anything but 3, 4, or 5 (all inputs prompted to go to COL. 36), `PUFC36_AVAIL` will be given the value 0 to indicate that the question from COL. 34 did not prompt the respondent to answer COL. 36 per the instructions indicated in the questionnaire."
   ]
  },
  {
   "cell_type": "code",
   "execution_count": 26,
   "metadata": {},
   "outputs": [
    {
     "name": "stdout",
     "output_type": "stream",
     "text": [
      "PUFC36_AVAIL\n",
      "0    171338\n",
      "1      4293\n",
      "2      1676\n",
      "Name: count, dtype: int64\n"
     ]
    },
    {
     "name": "stderr",
     "output_type": "stream",
     "text": [
      "C:\\Users\\Matthew Sanchez\\AppData\\Local\\Temp\\ipykernel_34248\\3301230796.py:1: FutureWarning: A value is trying to be set on a copy of a DataFrame or Series through chained assignment using an inplace method.\n",
      "The behavior will change in pandas 3.0. This inplace method will never work because the intermediate object on which we are setting values always behaves as a copy.\n",
      "\n",
      "For example, when doing 'df[col].method(value, inplace=True)', try using 'df.method({col: value}, inplace=True)' or df[col] = df[col].method(value) instead, to perform the operation inplace on the original object.\n",
      "\n",
      "\n",
      "  clean_df['PUFC36_AVAIL'].replace(r'^\\s*$', 0, regex=True, inplace=True)\n",
      "C:\\Users\\Matthew Sanchez\\AppData\\Local\\Temp\\ipykernel_34248\\3301230796.py:1: SettingWithCopyWarning: \n",
      "A value is trying to be set on a copy of a slice from a DataFrame\n",
      "\n",
      "See the caveats in the documentation: https://pandas.pydata.org/pandas-docs/stable/user_guide/indexing.html#returning-a-view-versus-a-copy\n",
      "  clean_df['PUFC36_AVAIL'].replace(r'^\\s*$', 0, regex=True, inplace=True)\n",
      "C:\\Users\\Matthew Sanchez\\AppData\\Local\\Temp\\ipykernel_34248\\3301230796.py:2: SettingWithCopyWarning: \n",
      "A value is trying to be set on a copy of a slice from a DataFrame.\n",
      "Try using .loc[row_indexer,col_indexer] = value instead\n",
      "\n",
      "See the caveats in the documentation: https://pandas.pydata.org/pandas-docs/stable/user_guide/indexing.html#returning-a-view-versus-a-copy\n",
      "  clean_df['PUFC36_AVAIL'] = clean_df['PUFC36_AVAIL'].astype(str).str.strip().astype(int)\n"
     ]
    }
   ],
   "source": [
    "clean_df['PUFC36_AVAIL'].replace(r'^\\s*$', 0, regex=True, inplace=True)\n",
    "clean_df['PUFC36_AVAIL'] = clean_df['PUFC36_AVAIL'].astype(str).str.strip().astype(int)\n",
    "print(clean_df['PUFC36_AVAIL'].value_counts())"
   ]
  },
  {
   "cell_type": "markdown",
   "metadata": {},
   "source": [
    "Empty entries for `PUFC37_WILLING` (willingness to take up work during the past 2 weeks) will be defaulted to a value of 2 since the questionnaire associated 2 with NO. We assume skip by omission which implies a NO. "
   ]
  },
  {
   "cell_type": "code",
   "execution_count": 30,
   "metadata": {},
   "outputs": [
    {
     "name": "stdout",
     "output_type": "stream",
     "text": [
      "PUFC37_WILLING\n",
      "2    172721\n",
      "1      4586\n",
      "Name: count, dtype: int64\n"
     ]
    },
    {
     "name": "stderr",
     "output_type": "stream",
     "text": [
      "C:\\Users\\Matthew Sanchez\\AppData\\Local\\Temp\\ipykernel_34248\\1765322502.py:1: FutureWarning: A value is trying to be set on a copy of a DataFrame or Series through chained assignment using an inplace method.\n",
      "The behavior will change in pandas 3.0. This inplace method will never work because the intermediate object on which we are setting values always behaves as a copy.\n",
      "\n",
      "For example, when doing 'df[col].method(value, inplace=True)', try using 'df.method({col: value}, inplace=True)' or df[col] = df[col].method(value) instead, to perform the operation inplace on the original object.\n",
      "\n",
      "\n",
      "  clean_df['PUFC37_WILLING'].replace(r'^\\s*$', 2, regex=True, inplace=True)\n",
      "C:\\Users\\Matthew Sanchez\\AppData\\Local\\Temp\\ipykernel_34248\\1765322502.py:1: SettingWithCopyWarning: \n",
      "A value is trying to be set on a copy of a slice from a DataFrame\n",
      "\n",
      "See the caveats in the documentation: https://pandas.pydata.org/pandas-docs/stable/user_guide/indexing.html#returning-a-view-versus-a-copy\n",
      "  clean_df['PUFC37_WILLING'].replace(r'^\\s*$', 2, regex=True, inplace=True)\n",
      "C:\\Users\\Matthew Sanchez\\AppData\\Local\\Temp\\ipykernel_34248\\1765322502.py:2: SettingWithCopyWarning: \n",
      "A value is trying to be set on a copy of a slice from a DataFrame.\n",
      "Try using .loc[row_indexer,col_indexer] = value instead\n",
      "\n",
      "See the caveats in the documentation: https://pandas.pydata.org/pandas-docs/stable/user_guide/indexing.html#returning-a-view-versus-a-copy\n",
      "  clean_df['PUFC37_WILLING'] = clean_df['PUFC37_WILLING'].astype(str).str.strip().astype(int)\n"
     ]
    }
   ],
   "source": [
    "clean_df['PUFC37_WILLING'].replace(r'^\\s*$', 2, regex=True, inplace=True)\n",
    "clean_df['PUFC37_WILLING'] = clean_df['PUFC37_WILLING'].astype(str).str.strip().astype(int)\n",
    "print(clean_df['PUFC37_WILLING'].value_counts())"
   ]
  },
  {
   "cell_type": "markdown",
   "metadata": {},
   "source": [
    "If `PUFC34_WYNOT` is anything but 6, 7, 8, or 9 (all inputs prompted to go to COL. 38), `PUFC38_PREVJOB` will be given the value 0 to indicate that the question from COL. 34 did not prompt the respondent to answer COL. 38 per the instructions indicated in the questionnaire."
   ]
  },
  {
   "cell_type": "code",
   "execution_count": 28,
   "metadata": {},
   "outputs": [
    {
     "name": "stdout",
     "output_type": "stream",
     "text": [
      "PUFC38_PREVJOB\n",
      "0    129137\n",
      "1     27880\n",
      "2     20290\n",
      "Name: count, dtype: int64\n"
     ]
    },
    {
     "name": "stderr",
     "output_type": "stream",
     "text": [
      "C:\\Users\\Matthew Sanchez\\AppData\\Local\\Temp\\ipykernel_34248\\3859403142.py:1: FutureWarning: A value is trying to be set on a copy of a DataFrame or Series through chained assignment using an inplace method.\n",
      "The behavior will change in pandas 3.0. This inplace method will never work because the intermediate object on which we are setting values always behaves as a copy.\n",
      "\n",
      "For example, when doing 'df[col].method(value, inplace=True)', try using 'df.method({col: value}, inplace=True)' or df[col] = df[col].method(value) instead, to perform the operation inplace on the original object.\n",
      "\n",
      "\n",
      "  clean_df['PUFC38_PREVJOB'].replace(r'^\\s*$', 0, regex=True, inplace=True)\n",
      "C:\\Users\\Matthew Sanchez\\AppData\\Local\\Temp\\ipykernel_34248\\3859403142.py:1: SettingWithCopyWarning: \n",
      "A value is trying to be set on a copy of a slice from a DataFrame\n",
      "\n",
      "See the caveats in the documentation: https://pandas.pydata.org/pandas-docs/stable/user_guide/indexing.html#returning-a-view-versus-a-copy\n",
      "  clean_df['PUFC38_PREVJOB'].replace(r'^\\s*$', 0, regex=True, inplace=True)\n",
      "C:\\Users\\Matthew Sanchez\\AppData\\Local\\Temp\\ipykernel_34248\\3859403142.py:2: SettingWithCopyWarning: \n",
      "A value is trying to be set on a copy of a slice from a DataFrame.\n",
      "Try using .loc[row_indexer,col_indexer] = value instead\n",
      "\n",
      "See the caveats in the documentation: https://pandas.pydata.org/pandas-docs/stable/user_guide/indexing.html#returning-a-view-versus-a-copy\n",
      "  clean_df['PUFC38_PREVJOB'] = clean_df['PUFC38_PREVJOB'].astype(str).str.strip().astype(int)\n"
     ]
    }
   ],
   "source": [
    "clean_df['PUFC38_PREVJOB'].replace(r'^\\s*$', 0, regex=True, inplace=True)\n",
    "clean_df['PUFC38_PREVJOB'] = clean_df['PUFC38_PREVJOB'].astype(str).str.strip().astype(int)\n",
    "print(clean_df['PUFC38_PREVJOB'].value_counts())"
   ]
  },
  {
   "cell_type": "markdown",
   "metadata": {},
   "source": [
    "Empty entries for `PUFC41_WQTR` (did you work for the past quarter) will be defaulted to a value of 2 since the questionnaire associated 2 with NO. We assume skip by omission which implies a NO. "
   ]
  },
  {
   "cell_type": "code",
   "execution_count": 33,
   "metadata": {},
   "outputs": [
    {
     "name": "stdout",
     "output_type": "stream",
     "text": [
      "PUFC41_WQTR\n",
      "2    104270\n",
      "1     73037\n",
      "Name: count, dtype: int64\n"
     ]
    },
    {
     "name": "stderr",
     "output_type": "stream",
     "text": [
      "C:\\Users\\Matthew Sanchez\\AppData\\Local\\Temp\\ipykernel_34248\\4196465021.py:1: FutureWarning: A value is trying to be set on a copy of a DataFrame or Series through chained assignment using an inplace method.\n",
      "The behavior will change in pandas 3.0. This inplace method will never work because the intermediate object on which we are setting values always behaves as a copy.\n",
      "\n",
      "For example, when doing 'df[col].method(value, inplace=True)', try using 'df.method({col: value}, inplace=True)' or df[col] = df[col].method(value) instead, to perform the operation inplace on the original object.\n",
      "\n",
      "\n",
      "  clean_df['PUFC41_WQTR'].replace(r'^\\s*$', 2, regex=True, inplace=True)\n",
      "C:\\Users\\Matthew Sanchez\\AppData\\Local\\Temp\\ipykernel_34248\\4196465021.py:1: SettingWithCopyWarning: \n",
      "A value is trying to be set on a copy of a slice from a DataFrame\n",
      "\n",
      "See the caveats in the documentation: https://pandas.pydata.org/pandas-docs/stable/user_guide/indexing.html#returning-a-view-versus-a-copy\n",
      "  clean_df['PUFC41_WQTR'].replace(r'^\\s*$', 2, regex=True, inplace=True)\n",
      "C:\\Users\\Matthew Sanchez\\AppData\\Local\\Temp\\ipykernel_34248\\4196465021.py:2: SettingWithCopyWarning: \n",
      "A value is trying to be set on a copy of a slice from a DataFrame.\n",
      "Try using .loc[row_indexer,col_indexer] = value instead\n",
      "\n",
      "See the caveats in the documentation: https://pandas.pydata.org/pandas-docs/stable/user_guide/indexing.html#returning-a-view-versus-a-copy\n",
      "  clean_df['PUFC41_WQTR'] = clean_df['PUFC41_WQTR'].astype(str).str.strip().astype(int)\n"
     ]
    }
   ],
   "source": [
    "clean_df['PUFC41_WQTR'].replace(r'^\\s*$', 2, regex=True, inplace=True)\n",
    "clean_df['PUFC41_WQTR'] = clean_df['PUFC41_WQTR'].astype(str).str.strip().astype(int)\n",
    "print(clean_df['PUFC41_WQTR'].value_counts())"
   ]
  },
  {
   "cell_type": "markdown",
   "metadata": {},
   "source": [
    "Empty entries for `PUFNEWEMPSTAT` (new employment criteria) will be defaulted to a value of 1 to apply imutation."
   ]
  },
  {
   "cell_type": "code",
   "execution_count": 36,
   "metadata": {},
   "outputs": [
    {
     "name": "stdout",
     "output_type": "stream",
     "text": [
      "PUFNEWEMPSTAT\n",
      "1    129137\n",
      "3     43877\n",
      "2      4293\n",
      "Name: count, dtype: int64\n"
     ]
    },
    {
     "name": "stderr",
     "output_type": "stream",
     "text": [
      "C:\\Users\\Matthew Sanchez\\AppData\\Local\\Temp\\ipykernel_34248\\2317405068.py:1: FutureWarning: A value is trying to be set on a copy of a DataFrame or Series through chained assignment using an inplace method.\n",
      "The behavior will change in pandas 3.0. This inplace method will never work because the intermediate object on which we are setting values always behaves as a copy.\n",
      "\n",
      "For example, when doing 'df[col].method(value, inplace=True)', try using 'df.method({col: value}, inplace=True)' or df[col] = df[col].method(value) instead, to perform the operation inplace on the original object.\n",
      "\n",
      "\n",
      "  clean_df['PUFNEWEMPSTAT'].replace(r'^\\s*$', 1, regex=True, inplace=True)\n",
      "C:\\Users\\Matthew Sanchez\\AppData\\Local\\Temp\\ipykernel_34248\\2317405068.py:1: SettingWithCopyWarning: \n",
      "A value is trying to be set on a copy of a slice from a DataFrame\n",
      "\n",
      "See the caveats in the documentation: https://pandas.pydata.org/pandas-docs/stable/user_guide/indexing.html#returning-a-view-versus-a-copy\n",
      "  clean_df['PUFNEWEMPSTAT'].replace(r'^\\s*$', 1, regex=True, inplace=True)\n",
      "C:\\Users\\Matthew Sanchez\\AppData\\Local\\Temp\\ipykernel_34248\\2317405068.py:2: SettingWithCopyWarning: \n",
      "A value is trying to be set on a copy of a slice from a DataFrame.\n",
      "Try using .loc[row_indexer,col_indexer] = value instead\n",
      "\n",
      "See the caveats in the documentation: https://pandas.pydata.org/pandas-docs/stable/user_guide/indexing.html#returning-a-view-versus-a-copy\n",
      "  clean_df['PUFNEWEMPSTAT'] = clean_df['PUFNEWEMPSTAT'].astype(str).str.strip().astype(int)\n"
     ]
    }
   ],
   "source": [
    "clean_df['PUFNEWEMPSTAT'].replace(r'^\\s*$', 1, regex=True, inplace=True)\n",
    "clean_df['PUFNEWEMPSTAT'] = clean_df['PUFNEWEMPSTAT'].astype(str).str.strip().astype(int)\n",
    "print(clean_df['PUFNEWEMPSTAT'].value_counts())"
   ]
  },
  {
   "cell_type": "markdown",
   "metadata": {},
   "source": [
    "Empty entries for `` ()"
   ]
  },
  {
   "cell_type": "code",
   "execution_count": 38,
   "metadata": {},
   "outputs": [
    {
     "name": "stdout",
     "output_type": "stream",
     "text": [
      "PUFREG             0\n",
      "PUFPRV             0\n",
      "PUFPRRCD           0\n",
      "PUFHHNUM           0\n",
      "PUFURB2K10         0\n",
      "PUFPWGTFIN         0\n",
      "PUFSVYMO           0\n",
      "PUFSVYYR           0\n",
      "PUFPSU             0\n",
      "PUFRPL             0\n",
      "PUFHHSIZE          0\n",
      "PUFC01_LNO         0\n",
      "PUFC03_REL         0\n",
      "PUFC04_SEX         0\n",
      "PUFC05_AGE         0\n",
      "PUFC06_MSTAT       0\n",
      "PUFC07_GRADE       0\n",
      "PUFC08_CURSCH      0\n",
      "PUFC09_GRADTECH    0\n",
      "PUFC10_CONWR       0\n",
      "PUFC11_WORK        0\n",
      "PUFC12_JOB         0\n",
      "PUFC14_PROCC       0\n",
      "PUFC16_PKB         0\n",
      "PUFC17_NATEM       0\n",
      "PUFC18_PNWHRS      0\n",
      "PUFC19_PHOURS      0\n",
      "PUFC20_PWMORE      0\n",
      "PUFC21_PLADDW      0\n",
      "PUFC22_PFWRK       0\n",
      "PUFC23_PCLASS      0\n",
      "PUFC24_PBASIS      0\n",
      "PUFC25_PBASIC      0\n",
      "PUFC26_OJOB        0\n",
      "PUFC27_NJOBS       0\n",
      "PUFC28_THOURS      0\n",
      "PUFC29_WWM48H      0\n",
      "PUFC30_LOOKW       0\n",
      "PUFC31_FLWRK       0\n",
      "PUFC32_JOBSM       0\n",
      "PUFC33_WEEKS       0\n",
      "PUFC34_WYNOT       0\n",
      "PUFC35_LTLOOKW     0\n",
      "PUFC36_AVAIL       0\n",
      "PUFC37_WILLING     0\n",
      "PUFC38_PREVJOB     0\n",
      "PUFC40_POCC        0\n",
      "PUFC41_WQTR        0\n",
      "PUFC43_QKB         0\n",
      "PUFNEWEMPSTAT      0\n",
      "dtype: int64\n"
     ]
    }
   ],
   "source": [
    "print((clean_df == ' ').sum()) "
   ]
  },
  {
   "cell_type": "markdown",
   "metadata": {},
   "source": [
    "## Section 5. Exploratory data analysis"
   ]
  },
  {
   "cell_type": "markdown",
   "metadata": {},
   "source": [
    "## Section 6. Initial model training"
   ]
  },
  {
   "cell_type": "markdown",
   "metadata": {},
   "source": [
    "## Section 7. Error analysis"
   ]
  },
  {
   "cell_type": "markdown",
   "metadata": {},
   "source": [
    "## Section 8. Improving model performance"
   ]
  },
  {
   "cell_type": "markdown",
   "metadata": {},
   "source": [
    "## Section 9. Model performance summary"
   ]
  },
  {
   "cell_type": "markdown",
   "metadata": {},
   "source": [
    "## Section 10. Insights and conclusions"
   ]
  },
  {
   "cell_type": "markdown",
   "metadata": {},
   "source": [
    "## Section 11. References"
   ]
  }
 ],
 "metadata": {
  "kernelspec": {
   "display_name": "Python 3",
   "language": "python",
   "name": "python3"
  },
  "language_info": {
   "codemirror_mode": {
    "name": "ipython",
    "version": 3
   },
   "file_extension": ".py",
   "mimetype": "text/x-python",
   "name": "python",
   "nbconvert_exporter": "python",
   "pygments_lexer": "ipython3",
   "version": "3.12.6"
  }
 },
 "nbformat": 4,
 "nbformat_minor": 2
}
